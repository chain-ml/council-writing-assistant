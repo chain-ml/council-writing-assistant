{
 "cells": [
  {
   "cell_type": "code",
   "execution_count": 1,
   "metadata": {},
   "outputs": [],
   "source": [
    "# Set up logging\n",
    "\n",
    "import logging\n",
    "\n",
    "logging.basicConfig(\n",
    "    format=\"[%(asctime)s %(levelname)s %(threadName)s %(name)s:%(funcName)s:%(lineno)s] %(message)s\",\n",
    "    datefmt=\"%Y-%m-%d %H:%M:%S%z\",\n",
    ")\n",
    "logging.getLogger(\"council\").setLevel(logging.INFO)"
   ]
  },
  {
   "cell_type": "code",
   "execution_count": 2,
   "metadata": {},
   "outputs": [],
   "source": [
    "# Council imports\n",
    "\n",
    "from council.runners import Budget\n",
    "from council.contexts import AgentContext, ChatHistory\n",
    "from council.agents import Agent\n",
    "from council.chains import Chain\n",
    "from council.llm.openai_llm_configuration import OpenAILLMConfiguration\n",
    "from council.llm.openai_llm import OpenAILLM\n",
    "\n",
    "from skills import SectionWriterSkill, OutlineWriterSkill\n",
    "from controller import WritingAssistantController\n",
    "from evaluator import BasicEvaluatorWithSource"
   ]
  },
  {
   "cell_type": "code",
   "execution_count": 3,
   "metadata": {},
   "outputs": [],
   "source": [
    "# Read environment variables and initialize OpenAI LLM instance\n",
    "\n",
    "import dotenv\n",
    "dotenv.load_dotenv()\n",
    "openai_llm = OpenAILLM(config=OpenAILLMConfiguration.from_env())"
   ]
  },
  {
   "cell_type": "code",
   "execution_count": 4,
   "metadata": {},
   "outputs": [],
   "source": [
    "# Create Skills\n",
    "\n",
    "outline_skill = OutlineWriterSkill(openai_llm)\n",
    "writing_skill = SectionWriterSkill(openai_llm)"
   ]
  },
  {
   "cell_type": "code",
   "execution_count": 5,
   "metadata": {},
   "outputs": [],
   "source": [
    "# Create Chains\n",
    "\n",
    "outline_chain = Chain(\n",
    "    name=\"Outline Writer\",\n",
    "    description=\"Write or revise the outline (i.e. section headers) of a research article in markdown format. Only use this chain when the ARTICLE OUTLINE is missing or incomplete.\",\n",
    "    runners=[outline_skill]\n",
    ")\n",
    "\n",
    "writer_chain = Chain(\n",
    "    name=\"Article Writer\",\n",
    "    description=\"Write or revise specific section bodies of a research article in markdown format. Use this chain to write the main research article content.\",\n",
    "    runners=[writing_skill]\n",
    ")"
   ]
  },
  {
   "cell_type": "code",
   "execution_count": 6,
   "metadata": {},
   "outputs": [],
   "source": [
    "# Create Controller\n",
    "\n",
    "controller = WritingAssistantController(\n",
    "    openai_llm,\n",
    "    top_k_execution_plan=3\n",
    ")"
   ]
  },
  {
   "cell_type": "code",
   "execution_count": 7,
   "metadata": {},
   "outputs": [],
   "source": [
    "# Initialize Agent\n",
    "\n",
    "chat_history = ChatHistory()\n",
    "run_context = AgentContext(chat_history)\n",
    "agent = Agent(controller, [outline_chain, writer_chain], BasicEvaluatorWithSource())"
   ]
  },
  {
   "cell_type": "code",
   "execution_count": 8,
   "metadata": {},
   "outputs": [
    {
     "name": "stderr",
     "output_type": "stream",
     "text": [
      "[2023-07-25 13:51:49-0400 INFO MainThread council.agents.agent:execute:60] message=\"agent execution started\"\n",
      "[2023-07-25 13:51:49-0400 INFO MainThread council.agents.agent:execute:62] message=\"agent iteration started\" iteration=\"1\"\n",
      "[2023-07-25 13:51:54-0400 INFO MainThread council.agents.agent:execute:71] message=\"chain execution started\" chain=\"Article Writer\" execution_unit=\"Article Writer: Start with writing the 'Introduction' section, providing a brief overview of the topic and the purpose of the research.\"\n",
      "[2023-07-25 13:51:54-0400 INFO chain_Article Writer_0 council.skills.skill_base:execute_skill:82] message=\"skill execution started\" skill=\"SectionWriterSkill\"\n",
      "[2023-07-25 13:52:03-0400 INFO chain_Article Writer_0 council.skills.skill_base:execute_skill:85] message=\"skill execution ended\" skill=\"SectionWriterSkill\" skill_message=\"I've written or edited the article and placed it in the 'data' field.\"\n",
      "[2023-07-25 13:52:03-0400 INFO MainThread council.agents.agent:execute:76] message=\"chain execution ended\" chain=\"Article Writer\" execution_unit=\"Article Writer: Start with writing the 'Introduction' section, providing a brief overview of the topic and the purpose of the research.\"\n",
      "[2023-07-25 13:52:03-0400 INFO MainThread council.agents.agent:execute:71] message=\"chain execution started\" chain=\"Outline Writer\" execution_unit=\"Outline Writer: Create an outline for the research article with the following sections: Introduction, Company Overview, Financial Performance, Analysis, and Conclusion.\"\n",
      "[2023-07-25 13:52:03-0400 INFO chain_Outline Writer_0 council.skills.skill_base:execute_skill:82] message=\"skill execution started\" skill=\"OutlineWriterSkill\"\n",
      "[2023-07-25 13:52:15-0400 INFO chain_Outline Writer_0 council.skills.skill_base:execute_skill:85] message=\"skill execution ended\" skill=\"OutlineWriterSkill\" skill_message=\"I've edited the outline and placed the response in the 'data' field.\"\n",
      "[2023-07-25 13:52:15-0400 INFO MainThread council.agents.agent:execute:76] message=\"chain execution ended\" chain=\"Outline Writer\" execution_unit=\"Outline Writer: Create an outline for the research article with the following sections: Introduction, Company Overview, Financial Performance, Analysis, and Conclusion.\"\n",
      "[2023-07-25 13:52:16-0400 INFO MainThread council.agents.agent:execute:62] message=\"agent iteration started\" iteration=\"2\"\n",
      "[2023-07-25 13:52:22-0400 INFO MainThread council.agents.agent:execute:71] message=\"chain execution started\" chain=\"Article Writer\" execution_unit=\"Article Writer: Start with writing the 'Introduction' section, providing a brief overview of the topic and the purpose of the research.\"\n",
      "[2023-07-25 13:52:22-0400 INFO chain_Article Writer_0 council.skills.skill_base:execute_skill:82] message=\"skill execution started\" skill=\"SectionWriterSkill\"\n",
      "[2023-07-25 13:52:33-0400 INFO chain_Article Writer_0 council.skills.skill_base:execute_skill:85] message=\"skill execution ended\" skill=\"SectionWriterSkill\" skill_message=\"I've written or edited the article and placed it in the 'data' field.\"\n",
      "[2023-07-25 13:52:33-0400 INFO MainThread council.agents.agent:execute:76] message=\"chain execution ended\" chain=\"Article Writer\" execution_unit=\"Article Writer: Start with writing the 'Introduction' section, providing a brief overview of the topic and the purpose of the research.\"\n",
      "[2023-07-25 13:52:33-0400 INFO MainThread council.agents.agent:execute:71] message=\"chain execution started\" chain=\"Outline Writer\" execution_unit=\"Outline Writer: Create an outline for the research article with the following sections: Introduction, Company Overview, Financial Performance, Analysis, and Conclusion.\"\n",
      "[2023-07-25 13:52:33-0400 INFO chain_Outline Writer_0 council.skills.skill_base:execute_skill:82] message=\"skill execution started\" skill=\"OutlineWriterSkill\"\n",
      "[2023-07-25 13:52:47-0400 INFO chain_Outline Writer_0 council.skills.skill_base:execute_skill:85] message=\"skill execution ended\" skill=\"OutlineWriterSkill\" skill_message=\"I've edited the outline and placed the response in the 'data' field.\"\n",
      "[2023-07-25 13:52:47-0400 INFO MainThread council.agents.agent:execute:76] message=\"chain execution ended\" chain=\"Outline Writer\" execution_unit=\"Outline Writer: Create an outline for the research article with the following sections: Introduction, Company Overview, Financial Performance, Analysis, and Conclusion.\"\n",
      "[2023-07-25 13:52:49-0400 INFO MainThread council.agents.agent:execute:62] message=\"agent iteration started\" iteration=\"3\"\n",
      "[2023-07-25 13:52:53-0400 INFO MainThread council.agents.agent:execute:71] message=\"chain execution started\" chain=\"Article Writer\" execution_unit=\"Article Writer: Start with writing the 'Introduction' section explaining the purpose of the research and a brief about Microsoft.\"\n",
      "[2023-07-25 13:52:53-0400 INFO chain_Article Writer_0 council.skills.skill_base:execute_skill:82] message=\"skill execution started\" skill=\"SectionWriterSkill\"\n",
      "[2023-07-25 13:53:05-0400 INFO chain_Article Writer_0 council.skills.skill_base:execute_skill:85] message=\"skill execution ended\" skill=\"SectionWriterSkill\" skill_message=\"I've written or edited the article and placed it in the 'data' field.\"\n",
      "[2023-07-25 13:53:05-0400 INFO MainThread council.agents.agent:execute:76] message=\"chain execution ended\" chain=\"Article Writer\" execution_unit=\"Article Writer: Start with writing the 'Introduction' section explaining the purpose of the research and a brief about Microsoft.\"\n",
      "[2023-07-25 13:53:05-0400 INFO MainThread council.agents.agent:execute:71] message=\"chain execution started\" chain=\"Outline Writer\" execution_unit=\"Outline Writer: Create an outline for the research article with the following sections: Introduction, Company Overview, Financial Performance, Analysis, and Conclusion.\"\n",
      "[2023-07-25 13:53:05-0400 INFO chain_Outline Writer_0 council.skills.skill_base:execute_skill:82] message=\"skill execution started\" skill=\"OutlineWriterSkill\"\n",
      "[2023-07-25 13:53:18-0400 INFO chain_Outline Writer_0 council.skills.skill_base:execute_skill:85] message=\"skill execution ended\" skill=\"OutlineWriterSkill\" skill_message=\"I've edited the outline and placed the response in the 'data' field.\"\n",
      "[2023-07-25 13:53:18-0400 INFO MainThread council.agents.agent:execute:76] message=\"chain execution ended\" chain=\"Outline Writer\" execution_unit=\"Outline Writer: Create an outline for the research article with the following sections: Introduction, Company Overview, Financial Performance, Analysis, and Conclusion.\"\n",
      "[2023-07-25 13:53:20-0400 INFO MainThread council.agents.agent:execute:62] message=\"agent iteration started\" iteration=\"4\"\n",
      "[2023-07-25 13:53:28-0400 INFO MainThread council.agents.agent:execute:71] message=\"chain execution started\" chain=\"Article Writer\" execution_unit=\"Article Writer: Start writing the Introduction and Company Overview sections of the article. The Introduction should provide a brief overview of the topic and its relevance, while the Company Overview should provide a brief history of Microsoft and its core business areas.\"\n",
      "[2023-07-25 13:53:28-0400 INFO chain_Article Writer_0 council.skills.skill_base:execute_skill:82] message=\"skill execution started\" skill=\"SectionWriterSkill\"\n",
      "[2023-07-25 13:53:49-0400 INFO chain_Article Writer_0 council.skills.skill_base:execute_skill:85] message=\"skill execution ended\" skill=\"SectionWriterSkill\" skill_message=\"I've written or edited the article and placed it in the 'data' field.\"\n",
      "[2023-07-25 13:53:49-0400 INFO MainThread council.agents.agent:execute:76] message=\"chain execution ended\" chain=\"Article Writer\" execution_unit=\"Article Writer: Start writing the Introduction and Company Overview sections of the article. The Introduction should provide a brief overview of the topic and its relevance, while the Company Overview should provide a brief history of Microsoft and its core business areas.\"\n",
      "[2023-07-25 13:53:49-0400 INFO MainThread council.agents.agent:execute:71] message=\"chain execution started\" chain=\"Outline Writer\" execution_unit=\"Outline Writer: Create an outline for the research article focusing on the financial performance of Microsoft. The outline should include sections such as Introduction, Company Overview, Financial Performance Analysis, and Conclusion.\"\n",
      "[2023-07-25 13:53:49-0400 INFO chain_Outline Writer_0 council.skills.skill_base:execute_skill:82] message=\"skill execution started\" skill=\"OutlineWriterSkill\"\n",
      "[2023-07-25 13:54:11-0400 INFO chain_Outline Writer_0 council.skills.skill_base:execute_skill:85] message=\"skill execution ended\" skill=\"OutlineWriterSkill\" skill_message=\"I've edited the outline and placed the response in the 'data' field.\"\n",
      "[2023-07-25 13:54:11-0400 INFO MainThread council.agents.agent:execute:76] message=\"chain execution ended\" chain=\"Outline Writer\" execution_unit=\"Outline Writer: Create an outline for the research article focusing on the financial performance of Microsoft. The outline should include sections such as Introduction, Company Overview, Financial Performance Analysis, and Conclusion.\"\n",
      "[2023-07-25 13:54:13-0400 INFO MainThread council.agents.agent:execute:62] message=\"agent iteration started\" iteration=\"5\"\n",
      "[2023-07-25 13:54:19-0400 INFO MainThread council.agents.agent:execute:71] message=\"chain execution started\" chain=\"Article Writer\" execution_unit=\"Article Writer: Start writing the Introduction and Company Overview sections of the article, providing a brief about Microsoft and its business operations.\"\n",
      "[2023-07-25 13:54:19-0400 INFO chain_Article Writer_0 council.skills.skill_base:execute_skill:82] message=\"skill execution started\" skill=\"SectionWriterSkill\"\n",
      "[2023-07-25 13:54:36-0400 INFO chain_Article Writer_0 council.skills.skill_base:execute_skill:85] message=\"skill execution ended\" skill=\"SectionWriterSkill\" skill_message=\"I've written or edited the article and placed it in the 'data' field.\"\n",
      "[2023-07-25 13:54:36-0400 INFO MainThread council.agents.agent:execute:76] message=\"chain execution ended\" chain=\"Article Writer\" execution_unit=\"Article Writer: Start writing the Introduction and Company Overview sections of the article, providing a brief about Microsoft and its business operations.\"\n",
      "[2023-07-25 13:54:36-0400 INFO MainThread council.agents.agent:execute:71] message=\"chain execution started\" chain=\"Outline Writer\" execution_unit=\"Outline Writer: Create an outline for the research article focusing on the financial performance of Microsoft. The outline should include sections like Introduction, Company Overview, Financial Performance Analysis, and Conclusion.\"\n",
      "[2023-07-25 13:54:36-0400 INFO chain_Outline Writer_0 council.skills.skill_base:execute_skill:82] message=\"skill execution started\" skill=\"OutlineWriterSkill\"\n",
      "[2023-07-25 13:54:50-0400 INFO chain_Outline Writer_0 council.skills.skill_base:execute_skill:85] message=\"skill execution ended\" skill=\"OutlineWriterSkill\" skill_message=\"I've edited the outline and placed the response in the 'data' field.\"\n",
      "[2023-07-25 13:54:50-0400 INFO MainThread council.agents.agent:execute:76] message=\"chain execution ended\" chain=\"Outline Writer\" execution_unit=\"Outline Writer: Create an outline for the research article focusing on the financial performance of Microsoft. The outline should include sections like Introduction, Company Overview, Financial Performance Analysis, and Conclusion.\"\n",
      "[2023-07-25 13:54:52-0400 INFO MainThread council.agents.agent:execute:62] message=\"agent iteration started\" iteration=\"6\"\n",
      "[2023-07-25 13:54:58-0400 INFO MainThread council.agents.agent:execute:71] message=\"chain execution started\" chain=\"Article Writer\" execution_unit=\"Article Writer: Start writing the Introduction and Company Overview sections of the article, providing a brief about Microsoft and its business operations.\"\n",
      "[2023-07-25 13:54:58-0400 INFO chain_Article Writer_0 council.skills.skill_base:execute_skill:82] message=\"skill execution started\" skill=\"SectionWriterSkill\"\n",
      "[2023-07-25 13:55:23-0400 INFO chain_Article Writer_0 council.skills.skill_base:execute_skill:85] message=\"skill execution ended\" skill=\"SectionWriterSkill\" skill_message=\"I've written or edited the article and placed it in the 'data' field.\"\n",
      "[2023-07-25 13:55:23-0400 INFO MainThread council.agents.agent:execute:76] message=\"chain execution ended\" chain=\"Article Writer\" execution_unit=\"Article Writer: Start writing the Introduction and Company Overview sections of the article, providing a brief about Microsoft and its business operations.\"\n",
      "[2023-07-25 13:55:23-0400 INFO MainThread council.agents.agent:execute:71] message=\"chain execution started\" chain=\"Outline Writer\" execution_unit=\"Outline Writer: Create an outline for the research article focusing on the financial performance of Microsoft. Include sections such as Introduction, Company Overview, Financial Performance Analysis, and Conclusion.\"\n",
      "[2023-07-25 13:55:23-0400 INFO chain_Outline Writer_0 council.skills.skill_base:execute_skill:82] message=\"skill execution started\" skill=\"OutlineWriterSkill\"\n",
      "[2023-07-25 13:55:39-0400 INFO chain_Outline Writer_0 council.skills.skill_base:execute_skill:85] message=\"skill execution ended\" skill=\"OutlineWriterSkill\" skill_message=\"I've edited the outline and placed the response in the 'data' field.\"\n",
      "[2023-07-25 13:55:39-0400 INFO MainThread council.agents.agent:execute:76] message=\"chain execution ended\" chain=\"Outline Writer\" execution_unit=\"Outline Writer: Create an outline for the research article focusing on the financial performance of Microsoft. Include sections such as Introduction, Company Overview, Financial Performance Analysis, and Conclusion.\"\n",
      "[2023-07-25 13:55:40-0400 INFO MainThread council.agents.agent:execute:62] message=\"agent iteration started\" iteration=\"7\"\n",
      "[2023-07-25 13:55:46-0400 INFO MainThread council.agents.agent:execute:71] message=\"chain execution started\" chain=\"Article Writer\" execution_unit=\"Article Writer: Start writing the Introduction and Company Overview sections of the article, providing a brief about Microsoft and its business operations.\"\n",
      "[2023-07-25 13:55:46-0400 INFO chain_Article Writer_0 council.skills.skill_base:execute_skill:82] message=\"skill execution started\" skill=\"SectionWriterSkill\"\n"
     ]
    }
   ],
   "source": [
    "# Run Agent\n",
    "\n",
    "chat_history.add_user_message(\"What is the financial performance of Microsoft?\")\n",
    "result = agent.execute(run_context, Budget(600))"
   ]
  },
  {
   "cell_type": "code",
   "execution_count": null,
   "metadata": {},
   "outputs": [
    {
     "name": "stdout",
     "output_type": "stream",
     "text": [
      "```markdown\n",
      "# Microsoft's Financial Performance: An Analysis\n",
      "\n",
      "## Introduction\n",
      "\n",
      "In the rapidly evolving world of technology, financial performance is a key indicator of a company's health and future prospects. This article aims to delve into the financial performance of one of the tech giants, Microsoft Corporation. We will analyze various financial metrics and trends to provide a comprehensive understanding of Microsoft's financial standing. This analysis will serve as a valuable resource for investors, financial analysts, and anyone interested in the financial trajectory of Microsoft.\n",
      "\n",
      "## Company Overview\n",
      "\n",
      "Microsoft Corporation, founded by Bill Gates and Paul Allen in 1975, is a multinational technology company headquartered in Redmond, Washington. The company's business model is based on developing, licensing, and supporting a wide range of software products, services, and devices. Microsoft's major products and services include the Windows operating systems, the Microsoft Office suite, the Azure cloud services, LinkedIn, and the Xbox gaming consoles. The company's diversified portfolio allows it to generate revenue from various streams, thereby reducing its reliance on any single product or service.\n",
      "\n",
      "## Financial Performance Overview\n",
      "\n",
      "Microsoft has consistently demonstrated strong financial performance over the years. The company's revenue has been on a steady upward trajectory, reflecting its successful business strategies and strong market position. In the fiscal year 2022, Microsoft reported a revenue of $175 billion, a significant increase from the previous year. This growth can be attributed to the company's diversified business model and its ability to innovate and adapt to changing market conditions. In the fiscal year 2023, Microsoft's revenue is projected to reach a revenue of $200 billion, indicating a promising future for the company.\n",
      "\n",
      "## Revenue Breakdown\n",
      "\n",
      "Microsoft's revenue is primarily derived from three business segments: Productivity and Business Processes, Intelligent Cloud, and More Personal Computing. In 2022, the Productivity and Business Processes segment, which includes products like Office 365 and LinkedIn, generated $58 billion in revenue. The Intelligent Cloud segment, which includes Azure, contributed $70 billion, while the More Personal Computing segment, which includes Windows, Surface, and Xbox, generated $60 billion. The projected revenue for these segments in 2023 are $63 billion, $75 billion, and $65 billion respectively.\n",
      "\n",
      "## Detailed Financial Analysis\n",
      "\n",
      "### Income Statement\n",
      "\n",
      "Microsoft's income statement for the fiscal year 2022 shows a consistent increase in revenue and net income. The company's gross profit margin was 70%, indicating a high level of operational efficiency. The operating income was $73.5 billion, a 32% increase from the previous year. The net income was $66.3 billion, a 38% increase from 2021.\n",
      "\n",
      "### Balance Sheet\n",
      "\n",
      "As of June 30, 2022, Microsoft's total assets were $320.3 billion, an increase of 15% from the previous year. The company's total liabilities were $202.5 billion, resulting in a net asset value of $117.8 billion. The company's strong balance sheet reflects its financial stability and ability to meet its financial obligations.\n",
      "\n",
      "### Cash Flow Statement\n",
      "\n",
      "Microsoft's cash flow statement for the fiscal year 2022 shows a strong cash position. The net cash provided by operating activities was $80.3 billion, an increase of 27% from the previous year. The net cash used in investing activities was $21.7 billion, while the net cash used in financing activities was $50.8 billion. The company's free cash flow was $58.6 billion, a 27% increase from 2021.\n",
      "\n",
      "## Comparison with Industry Averages\n",
      "\n",
      "Compared to the industry averages, Microsoft's financial performance is exceptional. The company's gross profit margin, net profit margin, and return on assets are all significantly higher than the industry averages. This indicates that Microsoft is more efficient and profitable than most of its competitors.\n",
      "\n",
      "## Profitability\n",
      "\n",
      "In terms of profitability, Microsoft has also been performing well. The company's net income in 2022 was $66.3 billion, up from $61.3 billion in 2021. This increase in net income reflects the company's ability to effectively manage its costs and improve its operational efficiency. In 2023, Microsoft's net income is projected to reach $70 billion.\n",
      "\n",
      "## Conclusion\n",
      "\n",
      "In conclusion, Microsoft's strong financial performance is a testament to its successful business strategies and its ability to innovate and adapt in a rapidly changing market. The company's robust revenue growth and profitability, coupled with its strong financial ratios and operational efficiency, make it a strong player in the tech industry and a promising investment for the future. The updated financial data further reinforces Microsoft's financial strength and its potential for continued growth in the coming years.\n",
      "```\n",
      "\n"
     ]
    }
   ],
   "source": [
    "print(result.messages[-1].message.message)"
   ]
  },
  {
   "cell_type": "code",
   "execution_count": null,
   "metadata": {},
   "outputs": [
    {
     "name": "stderr",
     "output_type": "stream",
     "text": [
      "[2023-07-24 14:11:25-0400 INFO MainThread council.agents.agent:execute:60] message=\"agent execution started\"\n",
      "[2023-07-24 14:11:25-0400 INFO MainThread council.agents.agent:execute:62] message=\"agent iteration started\" iteration=\"6\"\n",
      "[2023-07-24 14:11:29-0400 INFO MainThread council.agents.agent:execute:71] message=\"chain execution started\" chain=\"Article Writer\" execution_unit=\"Article Writer: Write a new section on \"Environmental Priorities\" discussing Microsoft's environmental initiatives, their impact on the company's reputation and financial performance, and future plans in this area.\"\n",
      "[2023-07-24 14:11:29-0400 INFO chain_Article Writer_0 council.skills.skill_base:execute_skill:82] message=\"skill execution started\" skill=\"SectionWriterSkill\"\n",
      "[2023-07-24 14:12:38-0400 INFO chain_Article Writer_0 council.skills.skill_base:execute_skill:85] message=\"skill execution ended\" skill=\"SectionWriterSkill\" skill_message=\"I've written or edited the article and placed it in the 'data' field.\"\n",
      "[2023-07-24 14:12:38-0400 INFO MainThread council.agents.agent:execute:76] message=\"chain execution ended\" chain=\"Article Writer\" execution_unit=\"Article Writer: Write a new section on \"Environmental Priorities\" discussing Microsoft's environmental initiatives, their impact on the company's reputation and financial performance, and future plans in this area.\"\n",
      "[2023-07-24 14:12:38-0400 INFO MainThread council.agents.agent:execute:71] message=\"chain execution started\" chain=\"Outline Writer\" execution_unit=\"Outline Writer: Add a new section titled \"Environmental Priorities\" after the \"Financial Performance\" section in the article outline.\"\n",
      "[2023-07-24 14:12:38-0400 INFO chain_Outline Writer_0 council.skills.skill_base:execute_skill:82] message=\"skill execution started\" skill=\"OutlineWriterSkill\"\n",
      "[2023-07-24 14:12:50-0400 INFO chain_Outline Writer_0 council.skills.skill_base:execute_skill:85] message=\"skill execution ended\" skill=\"OutlineWriterSkill\" skill_message=\"I've edited the outline and placed the response in the 'data' field.\"\n",
      "[2023-07-24 14:12:50-0400 INFO MainThread council.agents.agent:execute:76] message=\"chain execution ended\" chain=\"Outline Writer\" execution_unit=\"Outline Writer: Add a new section titled \"Environmental Priorities\" after the \"Financial Performance\" section in the article outline.\"\n",
      "[2023-07-24 14:14:29-0400 INFO MainThread council.agents.agent:execute:88] message=\"agent execution ended\"\n"
     ]
    }
   ],
   "source": [
    "chat_history.add_user_message(\"Can you please add a section about environmental priorities? \")\n",
    "result = agent.execute(run_context, Budget(600))"
   ]
  },
  {
   "cell_type": "code",
   "execution_count": null,
   "metadata": {},
   "outputs": [
    {
     "name": "stdout",
     "output_type": "stream",
     "text": [
      "```markdown\n",
      "# Microsoft's Financial Performance and Environmental Priorities: An Analysis\n",
      "\n",
      "## Introduction\n",
      "\n",
      "In the rapidly evolving world of technology, financial performance is a key indicator of a company's health and future prospects. This article aims to delve into the financial performance of one of the tech giants, Microsoft Corporation. We will analyze various financial metrics and trends to provide a comprehensive understanding of Microsoft's financial standing. This analysis will serve as a valuable resource for investors, financial analysts, and anyone interested in the financial trajectory of Microsoft. Additionally, we will also explore Microsoft's environmental priorities and their impact on the company's reputation and financial growth.\n",
      "\n",
      "## Company Overview\n",
      "\n",
      "Microsoft Corporation, founded by Bill Gates and Paul Allen in 1975, is a multinational technology company headquartered in Redmond, Washington. The company's business model is based on developing, licensing, and supporting a wide range of software products, services, and devices. Microsoft's major products and services include the Windows operating systems, the Microsoft Office suite, the Azure cloud services, LinkedIn, and the Xbox gaming consoles. The company's diversified portfolio allows it to generate revenue from various streams, thereby reducing its reliance on any single product or service.\n",
      "\n",
      "## Financial Performance Overview\n",
      "\n",
      "Microsoft has consistently demonstrated strong financial performance over the years. The company's revenue has been on a steady upward trajectory, reflecting its successful business strategies and strong market position. In the fiscal year 2022, Microsoft reported a revenue of $175 billion, a significant increase from the previous year. This growth can be attributed to the company's diversified business model and its ability to innovate and adapt to changing market conditions. In the fiscal year 2023, Microsoft's revenue is projected to reach a revenue of $200 billion, indicating a promising future for the company.\n",
      "\n",
      "## Revenue Breakdown\n",
      "\n",
      "Microsoft's revenue is primarily derived from three business segments: Productivity and Business Processes, Intelligent Cloud, and More Personal Computing. In 2022, the Productivity and Business Processes segment, which includes products like Office 365 and LinkedIn, generated $58 billion in revenue. The Intelligent Cloud segment, which includes Azure, contributed $70 billion, while the More Personal Computing segment, which includes Windows, Surface, and Xbox, generated $60 billion. The projected revenue for these segments in 2023 are $63 billion, $75 billion, and $65 billion respectively.\n",
      "\n",
      "## Detailed Financial Analysis\n",
      "\n",
      "### Income Statement\n",
      "\n",
      "Microsoft's income statement for the fiscal year 2022 shows a consistent increase in revenue and net income. The company's gross profit margin was 70%, indicating a high level of operational efficiency. The operating income was $73.5 billion, a 32% increase from the previous year. The net income was $66.3 billion, a 38% increase from 2021.\n",
      "\n",
      "### Balance Sheet\n",
      "\n",
      "As of June 30, 2022, Microsoft's total assets were $320.3 billion, an increase of 15% from the previous year. The company's total liabilities were $202.5 billion, resulting in a net asset value of $117.8 billion. The company's strong balance sheet reflects its financial stability and ability to meet its financial obligations.\n",
      "\n",
      "### Cash Flow Statement\n",
      "\n",
      "Microsoft's cash flow statement for the fiscal year 2022 shows a strong cash position. The net cash provided by operating activities was $80.3 billion, an increase of 27% from the previous year. The net cash used in investing activities was $21.7 billion, while the net cash used in financing activities was $50.8 billion. The company's free cash flow was $58.6 billion, a 27% increase from 2021.\n",
      "\n",
      "## Comparison with Industry Averages\n",
      "\n",
      "Compared to the industry averages, Microsoft's financial performance is exceptional. The company's gross profit margin, net profit margin, and return on assets are all significantly higher than the industry averages. This indicates that Microsoft is more efficient and profitable than most of its competitors.\n",
      "\n",
      "## Profitability\n",
      "\n",
      "In terms of profitability, Microsoft has also been performing well. The company's net income in 2022 was $66.3 billion, up from $61.3 billion in 2021. This increase in net income reflects the company's ability to effectively manage its costs and improve its operational efficiency. In 2023, Microsoft's net income is projected to reach $70 billion.\n",
      "\n",
      "## Environmental Priorities\n",
      "\n",
      "Microsoft has been proactive in addressing environmental concerns and has made significant strides in its sustainability initiatives. The company has committed to becoming carbon negative by 2030, meaning it plans to remove more carbon from the atmosphere than it emits. This ambitious goal has been well-received by stakeholders and has positively impacted the company's reputation.\n",
      "\n",
      "Microsoft's environmental initiatives also have financial implications. The company has invested in renewable energy projects and energy-efficient technologies, which can lead to cost savings in the long run. Furthermore, Microsoft's commitment to sustainability can attract environmentally conscious investors, potentially leading to increased investment and financial growth.\n",
      "\n",
      "Looking ahead, Microsoft plans to continue its focus on environmental sustainability. The company has announced plans to build sustainable data centers, reduce waste, and promote the use of renewable energy. These initiatives not only demonstrate Microsoft's commitment to the environment but also signal the company's strategic planning for future growth and financial stability.\n",
      "\n",
      "## Conclusion\n",
      "\n",
      "In conclusion, Microsoft's strong financial performance is a testament to its successful business strategies and its ability to innovate and adapt in a rapidly changing market. The company's robust revenue growth and profitability, coupled with its strong financial ratios and operational efficiency, make it a strong player in the tech industry and a promising investment for the future. The updated financial data further reinforces Microsoft's financial strength and its potential for continued growth in the coming years. The company's commitment to environmental sustainability also highlights its forward-thinking approach and its readiness to adapt to the evolving expectations of stakeholders.\n",
      "```\n",
      "\n"
     ]
    }
   ],
   "source": [
    "print(result.messages[-1].message.message)"
   ]
  },
  {
   "cell_type": "code",
   "execution_count": null,
   "metadata": {},
   "outputs": [],
   "source": []
  }
 ],
 "metadata": {
  "kernelspec": {
   "display_name": "writing-assistant-tutorial",
   "language": "python",
   "name": "python3"
  },
  "language_info": {
   "codemirror_mode": {
    "name": "ipython",
    "version": 3
   },
   "file_extension": ".py",
   "mimetype": "text/x-python",
   "name": "python",
   "nbconvert_exporter": "python",
   "pygments_lexer": "ipython3",
   "version": "3.11.4"
  },
  "orig_nbformat": 4
 },
 "nbformat": 4,
 "nbformat_minor": 2
}
