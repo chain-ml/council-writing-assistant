{
 "cells": [
  {
   "cell_type": "code",
   "execution_count": 1,
   "metadata": {},
   "outputs": [],
   "source": [
    "# Set up logging\n",
    "\n",
    "import logging\n",
    "\n",
    "logging.basicConfig(\n",
    "    format=\"[%(asctime)s %(levelname)s %(threadName)s %(name)s:%(funcName)s:%(lineno)s] %(message)s\",\n",
    "    datefmt=\"%Y-%m-%d %H:%M:%S%z\",\n",
    ")\n",
    "logging.getLogger(\"council\").setLevel(logging.INFO)"
   ]
  },
  {
   "cell_type": "code",
   "execution_count": 2,
   "metadata": {},
   "outputs": [],
   "source": [
    "# Council imports\n",
    "\n",
    "from council.runners import Budget\n",
    "from council.contexts import AgentContext, ChatHistory\n",
    "from council.agents import Agent\n",
    "from council.chains import Chain\n",
    "from council.llm.openai_llm_configuration import OpenAILLMConfiguration\n",
    "from council.llm.openai_llm import OpenAILLM\n",
    "\n",
    "from skills import SectionWriterSkill, OutlineWriterSkill\n",
    "from controller import WritingAssistantController\n",
    "from evaluator import BasicEvaluatorWithSource"
   ]
  },
  {
   "cell_type": "code",
   "execution_count": 3,
   "metadata": {},
   "outputs": [],
   "source": [
    "# Read environment variables and initialize OpenAI LLM instance\n",
    "\n",
    "import dotenv\n",
    "dotenv.load_dotenv()\n",
    "openai_llm = OpenAILLM(config=OpenAILLMConfiguration.from_env())"
   ]
  },
  {
   "cell_type": "code",
   "execution_count": 4,
   "metadata": {},
   "outputs": [],
   "source": [
    "# Create Skills\n",
    "\n",
    "outline_skill = OutlineWriterSkill(openai_llm)\n",
    "writing_skill = SectionWriterSkill(openai_llm)"
   ]
  },
  {
   "cell_type": "code",
   "execution_count": 5,
   "metadata": {},
   "outputs": [],
   "source": [
    "# Create Chains\n",
    "\n",
    "outline_chain = Chain(\n",
    "    name=\"Outline Writer\",\n",
    "    description=\"Write or revise the outline (i.e. section headers) of a research article in markdown format. Only use this chain when the ARTICLE OUTLINE is missing or incomplete.\",\n",
    "    runners=[outline_skill]\n",
    ")\n",
    "\n",
    "writer_chain = Chain(\n",
    "    name=\"Article Writer\",\n",
    "    description=\"Write or revise specific section bodies of a research article in markdown format. Use this chain to write the main research article content.\",\n",
    "    runners=[writing_skill]\n",
    ")"
   ]
  },
  {
   "cell_type": "code",
   "execution_count": 6,
   "metadata": {},
   "outputs": [],
   "source": [
    "# Create Controller\n",
    "\n",
    "controller = WritingAssistantController(\n",
    "    openai_llm,\n",
    "    top_k_execution_plan=3\n",
    ")"
   ]
  },
  {
   "cell_type": "code",
   "execution_count": 7,
   "metadata": {},
   "outputs": [],
   "source": [
    "# Initialize Agent\n",
    "\n",
    "chat_history = ChatHistory()\n",
    "run_context = AgentContext(chat_history)\n",
    "agent = Agent(controller, [outline_chain, writer_chain], BasicEvaluatorWithSource())"
   ]
  },
  {
   "cell_type": "code",
   "execution_count": 8,
   "metadata": {},
   "outputs": [
    {
     "name": "stderr",
     "output_type": "stream",
     "text": [
      "[2023-07-25 15:23:06-0400 INFO MainThread council.agents.agent:execute:60] message=\"agent execution started\"\n",
      "[2023-07-25 15:23:06-0400 INFO MainThread council.agents.agent:execute:62] message=\"agent iteration started\" iteration=\"1\"\n",
      "[2023-07-25 15:23:12-0400 INFO MainThread council.agents.agent:execute:71] message=\"chain execution started\" chain=\"Article Writer\" execution_unit=\"Article Writer: Start with writing the Introduction and Company Overview sections of the article, providing a brief about Microsoft and its business operations.\"\n",
      "[2023-07-25 15:23:12-0400 INFO chain_Article Writer_0 council.skills.skill_base:execute_skill:82] message=\"skill execution started\" skill=\"SectionWriterSkill\"\n",
      "[2023-07-25 15:23:34-0400 INFO chain_Article Writer_0 council.skills.skill_base:execute_skill:85] message=\"skill execution ended\" skill=\"SectionWriterSkill\" skill_message=\"I've written or edited the article and placed it in the 'data' field.\"\n",
      "[2023-07-25 15:23:34-0400 INFO MainThread council.agents.agent:execute:76] message=\"chain execution ended\" chain=\"Article Writer\" execution_unit=\"Article Writer: Start with writing the Introduction and Company Overview sections of the article, providing a brief about Microsoft and its business operations.\"\n",
      "[2023-07-25 15:23:34-0400 INFO MainThread council.agents.agent:execute:71] message=\"chain execution started\" chain=\"Outline Writer\" execution_unit=\"Outline Writer: Create an outline for the research article focusing on the financial performance of Microsoft. Include sections such as Introduction, Company Overview, Financial Performance Analysis, and Conclusion.\"\n",
      "[2023-07-25 15:23:34-0400 INFO chain_Outline Writer_0 council.skills.skill_base:execute_skill:82] message=\"skill execution started\" skill=\"OutlineWriterSkill\"\n",
      "[2023-07-25 15:23:53-0400 INFO chain_Outline Writer_0 council.skills.skill_base:execute_skill:85] message=\"skill execution ended\" skill=\"OutlineWriterSkill\" skill_message=\"I've edited the outline and placed the response in the 'data' field.\"\n",
      "[2023-07-25 15:23:53-0400 INFO MainThread council.agents.agent:execute:76] message=\"chain execution ended\" chain=\"Outline Writer\" execution_unit=\"Outline Writer: Create an outline for the research article focusing on the financial performance of Microsoft. Include sections such as Introduction, Company Overview, Financial Performance Analysis, and Conclusion.\"\n",
      "[2023-07-25 15:24:27-0400 INFO MainThread council.agents.agent:execute:62] message=\"agent iteration started\" iteration=\"2\"\n",
      "[2023-07-25 15:24:31-0400 INFO MainThread council.agents.agent:execute:71] message=\"chain execution started\" chain=\"Article Writer\" execution_unit=\"Article Writer: Please write the 'Financial Performance Analysis' section of the article, including the sub-sections 'Revenue Analysis', 'Profitability Analysis', 'Liquidity Analysis', and 'Solvency Analysis'. Make sure to compare Microsoft's financial performance with its competitors.\"\n",
      "[2023-07-25 15:24:31-0400 INFO chain_Article Writer_0 council.skills.skill_base:execute_skill:82] message=\"skill execution started\" skill=\"SectionWriterSkill\"\n",
      "[2023-07-25 15:25:15-0400 INFO chain_Article Writer_0 council.skills.skill_base:execute_skill:85] message=\"skill execution ended\" skill=\"SectionWriterSkill\" skill_message=\"I've written or edited the article and placed it in the 'data' field.\"\n",
      "[2023-07-25 15:25:15-0400 INFO MainThread council.agents.agent:execute:76] message=\"chain execution ended\" chain=\"Article Writer\" execution_unit=\"Article Writer: Please write the 'Financial Performance Analysis' section of the article, including the sub-sections 'Revenue Analysis', 'Profitability Analysis', 'Liquidity Analysis', and 'Solvency Analysis'. Make sure to compare Microsoft's financial performance with its competitors.\"\n",
      "[2023-07-25 15:25:54-0400 INFO MainThread council.agents.agent:execute:88] message=\"agent execution ended\"\n"
     ]
    }
   ],
   "source": [
    "# Run Agent\n",
    "\n",
    "chat_history.add_user_message(\"What is the financial performance of Microsoft?\")\n",
    "result = agent.execute(run_context, Budget(1200))"
   ]
  },
  {
   "cell_type": "code",
   "execution_count": 9,
   "metadata": {},
   "outputs": [
    {
     "name": "stdout",
     "output_type": "stream",
     "text": [
      "\"# Introduction\n",
      "\n",
      "Microsoft Corporation is a multinational technology company that has significantly shaped the software industry. With its headquarters in Redmond, Washington, Microsoft is renowned for its software products like the Microsoft Windows operating systems, the Microsoft Office suite, and the Internet Explorer and Edge web browsers. \n",
      "\n",
      "# Company Overview\n",
      "\n",
      "Founded by Bill Gates and Paul Allen in 1975, Microsoft has grown to become one of the largest and most influential tech companies in the world. The company's primary business is centered around developing, manufacturing, licensing, supporting, and selling computer software, consumer electronics, personal computers, and related services. \n",
      "\n",
      "Microsoft's most notable products include the Windows line of operating systems, the Office Suite of productivity software, and the Azure cloud computing platform. The company also has a significant presence in the hardware market with products like the Xbox video game consoles and the Surface lineup of touchscreen personal computers. \n",
      "\n",
      "In addition to its product offerings, Microsoft also provides a range of professional and consulting services, including cloud-based solutions, IT consulting, and product support services. The company operates globally, with offices and facilities in more than 100 countries. \n",
      "\n",
      "Microsoft's mission is to empower every person and every organization on the planet to achieve more. This mission is achieved through its strategy to build best-in-class platforms and productivity services for a mobile-first, cloud-first world. \n",
      "\n",
      "# Financial Performance Analysis\n",
      "\n",
      "## Revenue Analysis\n",
      "\n",
      "Microsoft's revenue has been on a steady upward trend over the past decade. The company's diverse product portfolio and its successful shift towards cloud-based services have been key drivers of this growth. When compared to competitors like Apple and Google, Microsoft's revenue growth rate is competitive, indicating a strong market position.\n",
      "\n",
      "## Profitability Analysis\n",
      "\n",
      "Microsoft's profitability ratios, such as the net profit margin and return on equity, have also improved over the years. This is largely due to the company's successful cost management strategies and the high profitability of its cloud services. Compared to competitors, Microsoft's profitability ratios are among the highest in the tech industry.\n",
      "\n",
      "## Liquidity Analysis\n",
      "\n",
      "Microsoft's liquidity ratios, such as the current ratio and quick ratio, indicate that the company has sufficient short-term assets to cover its short-term liabilities. This suggests that Microsoft has a strong liquidity position, which is better than many of its competitors.\n",
      "\n",
      "## Solvency Analysis\n",
      "\n",
      "Microsoft's solvency ratios, such as the debt-to-equity ratio and the equity ratio, show that the company has a healthy balance between debt and equity in its capital structure. This indicates that Microsoft has a strong solvency position, which is comparable to or better than many of its competitors.\n",
      "\n",
      "# Conclusion\n",
      "\n",
      "Microsoft's strong financial performance is reflected in its growing revenues, high profitability, strong liquidity, and solid solvency. This suggests that Microsoft is well-positioned for future growth and is likely to continue to deliver value to its shareholders. However, like any investment, it is important to consider the potential risks and uncertainties associated with Microsoft's business.\"\n"
     ]
    }
   ],
   "source": [
    "print(result.messages[-1].message.message)"
   ]
  },
  {
   "cell_type": "code",
   "execution_count": 10,
   "metadata": {},
   "outputs": [
    {
     "name": "stderr",
     "output_type": "stream",
     "text": [
      "[2023-07-25 15:25:54-0400 INFO MainThread council.agents.agent:execute:60] message=\"agent execution started\"\n",
      "[2023-07-25 15:25:54-0400 INFO MainThread council.agents.agent:execute:62] message=\"agent iteration started\" iteration=\"3\"\n",
      "[2023-07-25 15:26:01-0400 INFO MainThread council.agents.agent:execute:71] message=\"chain execution started\" chain=\"Article Writer\" execution_unit=\"Article Writer: Write a new section titled \"Environmental Priorities\" discussing Microsoft's environmental initiatives, sustainability goals, and how these priorities might impact their financial performance.\"\n",
      "[2023-07-25 15:26:01-0400 INFO chain_Article Writer_0 council.skills.skill_base:execute_skill:82] message=\"skill execution started\" skill=\"SectionWriterSkill\"\n",
      "[2023-07-25 15:26:46-0400 INFO chain_Article Writer_0 council.skills.skill_base:execute_skill:85] message=\"skill execution ended\" skill=\"SectionWriterSkill\" skill_message=\"I've written or edited the article and placed it in the 'data' field.\"\n",
      "[2023-07-25 15:26:46-0400 INFO MainThread council.agents.agent:execute:76] message=\"chain execution ended\" chain=\"Article Writer\" execution_unit=\"Article Writer: Write a new section titled \"Environmental Priorities\" discussing Microsoft's environmental initiatives, sustainability goals, and how these priorities might impact their financial performance.\"\n",
      "[2023-07-25 15:26:46-0400 INFO MainThread council.agents.agent:execute:71] message=\"chain execution started\" chain=\"Outline Writer\" execution_unit=\"Outline Writer: Add a new section titled \"V. Environmental Priorities\" after the \"IV. Conclusion\" section in the ARTICLE OUTLINE.\"\n",
      "[2023-07-25 15:26:46-0400 INFO chain_Outline Writer_0 council.skills.skill_base:execute_skill:82] message=\"skill execution started\" skill=\"OutlineWriterSkill\"\n",
      "[2023-07-25 15:27:05-0400 INFO chain_Outline Writer_0 council.skills.skill_base:execute_skill:85] message=\"skill execution ended\" skill=\"OutlineWriterSkill\" skill_message=\"I've edited the outline and placed the response in the 'data' field.\"\n",
      "[2023-07-25 15:27:05-0400 INFO MainThread council.agents.agent:execute:76] message=\"chain execution ended\" chain=\"Outline Writer\" execution_unit=\"Outline Writer: Add a new section titled \"V. Environmental Priorities\" after the \"IV. Conclusion\" section in the ARTICLE OUTLINE.\"\n",
      "[2023-07-25 15:28:27-0400 INFO MainThread council.agents.agent:execute:88] message=\"agent execution ended\"\n"
     ]
    }
   ],
   "source": [
    "chat_history.add_user_message(\"Can you please add a section about environmental priorities? \")\n",
    "result = agent.execute(run_context, Budget(600))"
   ]
  },
  {
   "cell_type": "code",
   "execution_count": 11,
   "metadata": {},
   "outputs": [
    {
     "name": "stdout",
     "output_type": "stream",
     "text": [
      "\"# Introduction\n",
      "\n",
      "Microsoft Corporation is a multinational technology company that has significantly shaped the software industry. With its headquarters in Redmond, Washington, Microsoft is renowned for its software products like the Microsoft Windows operating systems, the Microsoft Office suite, and the Internet Explorer and Edge web browsers. \n",
      "\n",
      "# Company Overview\n",
      "\n",
      "Founded by Bill Gates and Paul Allen in 1975, Microsoft has grown to become one of the largest and most influential tech companies in the world. The company's primary business is centered around developing, manufacturing, licensing, supporting, and selling computer software, consumer electronics, personal computers, and related services. \n",
      "\n",
      "Microsoft's most notable products include the Windows line of operating systems, the Office Suite of productivity software, and the Azure cloud computing platform. The company also has a significant presence in the hardware market with products like the Xbox video game consoles and the Surface lineup of touchscreen personal computers. \n",
      "\n",
      "In addition to its product offerings, Microsoft also provides a range of professional and consulting services, including cloud-based solutions, IT consulting, and product support services. The company operates globally, with offices and facilities in more than 100 countries. \n",
      "\n",
      "Microsoft's mission is to empower every person and every organization on the planet to achieve more. This mission is achieved through its strategy to build best-in-class platforms and productivity services for a mobile-first, cloud-first world. \n",
      "\n",
      "# Financial Performance Analysis\n",
      "\n",
      "## Revenue Analysis\n",
      "\n",
      "Microsoft's revenue has been on a steady upward trend over the past decade. The company's diverse product portfolio and its successful shift towards cloud-based services have been key drivers of this growth. When compared to competitors like Apple and Google, Microsoft's revenue growth rate is competitive, indicating a strong market position.\n",
      "\n",
      "## Profitability Analysis\n",
      "\n",
      "Microsoft's profitability ratios, such as the net profit margin and return on equity, have also improved over the years. This is largely due to the company's successful cost management strategies and the high profitability of its cloud services. Compared to competitors, Microsoft's profitability ratios are among the highest in the tech industry.\n",
      "\n",
      "## Liquidity Analysis\n",
      "\n",
      "Microsoft's liquidity ratios, such as the current ratio and quick ratio, indicate that the company has sufficient short-term assets to cover its short-term liabilities. This suggests that Microsoft has a strong liquidity position, which is better than many of its competitors.\n",
      "\n",
      "## Solvency Analysis\n",
      "\n",
      "Microsoft's solvency ratios, such as the debt-to-equity ratio and the equity ratio, show that the company has a healthy balance between debt and equity in its capital structure. This indicates that Microsoft has a strong solvency position, which is comparable to or better than many of its competitors.\n",
      "\n",
      "# Environmental Priorities\n",
      "\n",
      "Microsoft has made significant strides in its environmental initiatives and sustainability goals. The company has committed to becoming carbon negative by 2030, meaning it plans to remove more carbon from the atmosphere than it emits. This ambitious goal is part of Microsoft's broader sustainability strategy, which also includes efforts to shift towards renewable energy, reduce waste, and promote sustainable business practices.\n",
      "\n",
      "These environmental priorities could have several impacts on Microsoft's financial performance. On one hand, the transition to more sustainable practices could involve substantial upfront costs, which could impact short-term profitability. On the other hand, these initiatives could also lead to long-term cost savings, for example through improved energy efficiency or reduced waste. Furthermore, Microsoft's commitment to sustainability could enhance its reputation and brand value, potentially leading to increased sales and customer loyalty.\n",
      "\n",
      "# Conclusion\n",
      "\n",
      "Microsoft's strong financial performance is reflected in its growing revenues, high profitability, strong liquidity, and solid solvency. This suggests that Microsoft is well-positioned for future growth and is likely to continue to deliver value to its shareholders. However, like any investment, it is important to consider the potential risks and uncertainties associated with Microsoft's business, including the potential financial impacts of its environmental priorities.\"\n"
     ]
    }
   ],
   "source": [
    "print(result.messages[-1].message.message)"
   ]
  },
  {
   "cell_type": "code",
   "execution_count": 13,
   "metadata": {},
   "outputs": [
    {
     "name": "stderr",
     "output_type": "stream",
     "text": [
      "[2023-07-25 15:37:20-0400 INFO MainThread council.agents.agent:execute:60] message=\"agent execution started\"\n",
      "[2023-07-25 15:37:20-0400 INFO MainThread council.agents.agent:execute:62] message=\"agent iteration started\" iteration=\"4\"\n",
      "[2023-07-25 15:37:25-0400 INFO MainThread council.agents.agent:execute:71] message=\"chain execution started\" chain=\"Article Writer\" execution_unit=\"Article Writer: Add a new section on \"Environmental Priorities\" as per user request.\"\n",
      "[2023-07-25 15:37:25-0400 INFO chain_Article Writer_0 council.skills.skill_base:execute_skill:82] message=\"skill execution started\" skill=\"SectionWriterSkill\"\n",
      "[2023-07-25 15:38:12-0400 INFO chain_Article Writer_0 council.skills.skill_base:execute_skill:85] message=\"skill execution ended\" skill=\"SectionWriterSkill\" skill_message=\"I've written or edited the article and placed it in the 'data' field.\"\n",
      "[2023-07-25 15:38:12-0400 INFO MainThread council.agents.agent:execute:76] message=\"chain execution ended\" chain=\"Article Writer\" execution_unit=\"Article Writer: Add a new section on \"Environmental Priorities\" as per user request.\"\n",
      "[2023-07-25 15:38:12-0400 INFO MainThread council.agents.agent:execute:71] message=\"chain execution started\" chain=\"Article Writer\" execution_unit=\"Article Writer: Expand the content in each section of the article as per user request.\"\n",
      "[2023-07-25 15:38:12-0400 INFO chain_Article Writer_0 council.skills.skill_base:execute_skill:82] message=\"skill execution started\" skill=\"SectionWriterSkill\"\n",
      "[2023-07-25 15:39:07-0400 INFO chain_Article Writer_0 council.skills.skill_base:execute_skill:85] message=\"skill execution ended\" skill=\"SectionWriterSkill\" skill_message=\"I've written or edited the article and placed it in the 'data' field.\"\n",
      "[2023-07-25 15:39:07-0400 INFO MainThread council.agents.agent:execute:76] message=\"chain execution ended\" chain=\"Article Writer\" execution_unit=\"Article Writer: Expand the content in each section of the article as per user request.\"\n",
      "[2023-07-25 15:39:07-0400 INFO MainThread council.agents.agent:execute:71] message=\"chain execution started\" chain=\"Outline Writer\" execution_unit=\"Outline Writer: Revise the outline to include a section on \"Environmental Priorities\" after the \"Financial Performance Analysis\" section.\"\n",
      "[2023-07-25 15:39:07-0400 INFO chain_Outline Writer_0 council.skills.skill_base:execute_skill:82] message=\"skill execution started\" skill=\"OutlineWriterSkill\"\n",
      "[2023-07-25 15:39:27-0400 INFO chain_Outline Writer_0 council.skills.skill_base:execute_skill:85] message=\"skill execution ended\" skill=\"OutlineWriterSkill\" skill_message=\"I've edited the outline and placed the response in the 'data' field.\"\n",
      "[2023-07-25 15:39:27-0400 INFO MainThread council.agents.agent:execute:76] message=\"chain execution ended\" chain=\"Outline Writer\" execution_unit=\"Outline Writer: Revise the outline to include a section on \"Environmental Priorities\" after the \"Financial Performance Analysis\" section.\"\n",
      "[2023-07-25 15:40:45-0400 INFO MainThread council.agents.agent:execute:88] message=\"agent execution ended\"\n"
     ]
    }
   ],
   "source": [
    "chat_history.add_user_message(\"Can you please expand the article in every section?\")\n",
    "result = agent.execute(run_context, Budget(1200))"
   ]
  },
  {
   "cell_type": "code",
   "execution_count": 14,
   "metadata": {},
   "outputs": [
    {
     "name": "stdout",
     "output_type": "stream",
     "text": [
      "\"# Introduction\n",
      "\n",
      "Microsoft Corporation is a multinational technology company that has significantly shaped the software industry. With its headquarters in Redmond, Washington, Microsoft is renowned for its software products like the Microsoft Windows operating systems, the Microsoft Office suite, and the Internet Explorer and Edge web browsers. This article provides a comprehensive analysis of Microsoft's financial performance, including revenue, profitability, liquidity, and solvency. It also discusses the company's environmental priorities and their potential impact on its financial performance.\n",
      "\n",
      "# Company Overview\n",
      "\n",
      "Founded by Bill Gates and Paul Allen in 1975, Microsoft has grown to become one of the largest and most influential tech companies in the world. The company's primary business is centered around developing, manufacturing, licensing, supporting, and selling computer software, consumer electronics, personal computers, and related services. \n",
      "\n",
      "Microsoft's most notable products include the Windows line of operating systems, the Office Suite of productivity software, and the Azure cloud computing platform. The company also has a significant presence in the hardware market with products like the Xbox video game consoles and the Surface lineup of touchscreen personal computers. \n",
      "\n",
      "In addition to its product offerings, Microsoft also provides a range of professional and consulting services, including cloud-based solutions, IT consulting, and product support services. The company operates globally, with offices and facilities in more than 100 countries. \n",
      "\n",
      "Microsoft's mission is to empower every person and every organization on the planet to achieve more. This mission is achieved through its strategy to build best-in-class platforms and productivity services for a mobile-first, cloud-first world. \n",
      "\n",
      "# Financial Performance Analysis\n",
      "\n",
      "## Revenue Analysis\n",
      "\n",
      "Microsoft's revenue has been on a steady upward trend over the past decade. The company's diverse product portfolio and its successful shift towards cloud-based services have been key drivers of this growth. When compared to competitors like Apple and Google, Microsoft's revenue growth rate is competitive, indicating a strong market position. The company's revenue growth is also supported by its strong presence in emerging markets and its ability to innovate and adapt to changing market conditions.\n",
      "\n",
      "## Profitability Analysis\n",
      "\n",
      "Microsoft's profitability ratios, such as the net profit margin and return on equity, have also improved over the years. This is largely due to the company's successful cost management strategies and the high profitability of its cloud services. Compared to competitors, Microsoft's profitability ratios are among the highest in the tech industry. The company's strong profitability is also a result of its ability to leverage its scale and operational efficiency to generate high margins.\n",
      "\n",
      "## Liquidity Analysis\n",
      "\n",
      "Microsoft's liquidity ratios, such as the current ratio and quick ratio, indicate that the company has sufficient short-term assets to cover its short-term liabilities. This suggests that Microsoft has a strong liquidity position, which is better than many of its competitors. The company's strong liquidity position is also supported by its robust cash flows and its ability to generate cash from its operations.\n",
      "\n",
      "## Solvency Analysis\n",
      "\n",
      "Microsoft's solvency ratios, such as the debt-to-equity ratio and the equity ratio, show that the company has a healthy balance between debt and equity in its capital structure. This indicates that Microsoft has a strong solvency position, which is comparable to or better than many of its competitors. The company's strong solvency position is also a result of its conservative financial policies and its ability to generate stable and predictable cash flows.\n",
      "\n",
      "# Environmental Priorities\n",
      "\n",
      "Microsoft has made significant strides in its environmental initiatives and sustainability goals. The company has committed to becoming carbon negative by 2030, meaning it plans to remove more carbon from the atmosphere than it emits. This ambitious goal is part of Microsoft's broader sustainability strategy, which also includes efforts to shift towards renewable energy, reduce waste, and promote sustainable business practices.\n",
      "\n",
      "These environmental priorities could have several impacts on Microsoft's financial performance. On one hand, the transition to more sustainable practices could involve substantial upfront costs, which could impact short-term profitability. On the other hand, these initiatives could also lead to long-term cost savings, for example through improved energy efficiency or reduced waste. Furthermore, Microsoft's commitment to sustainability could enhance its reputation and brand value, potentially leading to increased sales and customer loyalty.\n",
      "\n",
      "# Conclusion\n",
      "\n",
      "Microsoft's strong financial performance is reflected in its growing revenues, high profitability, strong liquidity, and solid solvency. This suggests that Microsoft is well-positioned for future growth and is likely to continue to deliver value to its shareholders. However, like any investment, it is important to consider the potential risks and uncertainties associated with Microsoft's business, including the potential financial impacts of its environmental priorities. The company's commitment to environmental sustainability is not only a reflection of its corporate responsibility but also an integral part of its business strategy that could drive future growth and profitability.\"\n"
     ]
    }
   ],
   "source": [
    "print(result.messages[-1].message.message)"
   ]
  },
  {
   "cell_type": "code",
   "execution_count": null,
   "metadata": {},
   "outputs": [],
   "source": []
  }
 ],
 "metadata": {
  "kernelspec": {
   "display_name": "writing-assistant-tutorial",
   "language": "python",
   "name": "python3"
  },
  "language_info": {
   "codemirror_mode": {
    "name": "ipython",
    "version": 3
   },
   "file_extension": ".py",
   "mimetype": "text/x-python",
   "name": "python",
   "nbconvert_exporter": "python",
   "pygments_lexer": "ipython3",
   "version": "3.11.4"
  },
  "orig_nbformat": 4
 },
 "nbformat": 4,
 "nbformat_minor": 2
}
