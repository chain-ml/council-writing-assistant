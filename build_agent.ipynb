{
 "cells": [
  {
   "cell_type": "code",
   "execution_count": 1,
   "metadata": {},
   "outputs": [],
   "source": [
    "# Set up logging\n",
    "\n",
    "import logging\n",
    "\n",
    "logging.basicConfig(\n",
    "    format=\"[%(asctime)s %(levelname)s %(threadName)s %(name)s:%(funcName)s:%(lineno)s] %(message)s\",\n",
    "    datefmt=\"%Y-%m-%d %H:%M:%S%z\",\n",
    ")\n",
    "logging.getLogger(\"council\").setLevel(logging.INFO)"
   ]
  },
  {
   "cell_type": "code",
   "execution_count": 2,
   "metadata": {},
   "outputs": [],
   "source": [
    "# Council imports\n",
    "\n",
    "from council.runners import Budget\n",
    "from council.contexts import AgentContext, ChatHistory\n",
    "from council.agents import Agent\n",
    "from council.chains import Chain\n",
    "from council.llm.openai_llm_configuration import OpenAILLMConfiguration\n",
    "from council.llm.openai_llm import OpenAILLM\n",
    "\n",
    "from skills import SectionWriterSkill, OutlineWriterSkill\n",
    "from controller import WritingAssistantController\n",
    "from evaluator import BasicEvaluatorWithSource"
   ]
  },
  {
   "cell_type": "code",
   "execution_count": 3,
   "metadata": {},
   "outputs": [],
   "source": [
    "# Read environment variables and initialize OpenAI LLM instance\n",
    "\n",
    "import dotenv\n",
    "dotenv.load_dotenv()\n",
    "openai_llm = OpenAILLM(config=OpenAILLMConfiguration.from_env())"
   ]
  },
  {
   "cell_type": "code",
   "execution_count": 4,
   "metadata": {},
   "outputs": [],
   "source": [
    "# Create Skills\n",
    "\n",
    "outline_skill = OutlineWriterSkill(openai_llm)\n",
    "writing_skill = SectionWriterSkill(openai_llm)"
   ]
  },
  {
   "cell_type": "code",
   "execution_count": 5,
   "metadata": {},
   "outputs": [],
   "source": [
    "# Create Chains\n",
    "\n",
    "outline_chain = Chain(\n",
    "    name=\"Outline Writer\",\n",
    "    description=\"Write or revise the outline (i.e. section headers) of a research article in markdown format. Only use this chain when the ARTICLE OUTLINE is missing or incomplete.\",\n",
    "    runners=[outline_skill]\n",
    ")\n",
    "\n",
    "writer_chain = Chain(\n",
    "    name=\"Article Writer\",\n",
    "    description=\"Write or revise specific section bodies of a research article in markdown format. Use this chain to write the main research article content.\",\n",
    "    runners=[writing_skill]\n",
    ")"
   ]
  },
  {
   "cell_type": "code",
   "execution_count": 6,
   "metadata": {},
   "outputs": [],
   "source": [
    "# Create Controller\n",
    "\n",
    "controller = WritingAssistantController(\n",
    "    openai_llm,\n",
    "    top_k_execution_plan=3\n",
    ")"
   ]
  },
  {
   "cell_type": "code",
   "execution_count": 7,
   "metadata": {},
   "outputs": [],
   "source": [
    "# Initialize Agent\n",
    "\n",
    "chat_history = ChatHistory()\n",
    "run_context = AgentContext(chat_history)\n",
    "agent = Agent(controller, [outline_chain, writer_chain], BasicEvaluatorWithSource())"
   ]
  },
  {
   "cell_type": "code",
   "execution_count": 8,
   "metadata": {},
   "outputs": [
    {
     "name": "stderr",
     "output_type": "stream",
     "text": [
      "[2023-07-25 19:00:20-0400 INFO MainThread council.agents.agent:execute:60] message=\"agent execution started\"\n",
      "[2023-07-25 19:00:20-0400 INFO MainThread council.agents.agent:execute:62] message=\"agent iteration started\" iteration=\"1\"\n",
      "[2023-07-25 19:00:25-0400 INFO MainThread council.agents.agent:execute:71] message=\"chain execution started\" chain=\"Outline Writer\" execution_unit=\"Outline Writer: Create an outline for the research article about the history of video games. The outline should include sections such as Introduction, Early History, Evolution of Video Games, Impact on Society, and Conclusion.\"\n",
      "[2023-07-25 19:00:25-0400 INFO chain_Outline Writer_0 council.skills.skill_base:execute_skill:82] message=\"skill execution started\" skill=\"OutlineWriterSkill\"\n",
      "[2023-07-25 19:00:41-0400 INFO chain_Outline Writer_0 council.skills.skill_base:execute_skill:85] message=\"skill execution ended\" skill=\"OutlineWriterSkill\" skill_message=\"I've edited the outline and placed the response in the 'data' field.\"\n",
      "[2023-07-25 19:00:41-0400 INFO MainThread council.agents.agent:execute:76] message=\"chain execution ended\" chain=\"Outline Writer\" execution_unit=\"Outline Writer: Create an outline for the research article about the history of video games. The outline should include sections such as Introduction, Early History, Evolution of Video Games, Impact on Society, and Conclusion.\"\n",
      "[2023-07-25 19:00:41-0400 INFO MainThread council.agents.agent:execute:71] message=\"chain execution started\" chain=\"Article Writer\" execution_unit=\"Article Writer: Once the outline is ready, start writing the Introduction section, providing a brief overview of the topic and what the article will cover.\"\n",
      "[2023-07-25 19:00:41-0400 INFO chain_Article Writer_0 council.skills.skill_base:execute_skill:82] message=\"skill execution started\" skill=\"SectionWriterSkill\"\n",
      "[2023-07-25 19:00:52-0400 INFO chain_Article Writer_0 council.skills.skill_base:execute_skill:85] message=\"skill execution ended\" skill=\"SectionWriterSkill\" skill_message=\"I've written or edited the article and placed it in the 'data' field.\"\n",
      "[2023-07-25 19:00:52-0400 INFO MainThread council.agents.agent:execute:76] message=\"chain execution ended\" chain=\"Article Writer\" execution_unit=\"Article Writer: Once the outline is ready, start writing the Introduction section, providing a brief overview of the topic and what the article will cover.\"\n",
      "[2023-07-25 19:01:41-0400 INFO MainThread council.agents.agent:execute:62] message=\"agent iteration started\" iteration=\"2\"\n",
      "[2023-07-25 19:01:57-0400 INFO MainThread council.agents.agent:execute:71] message=\"chain execution started\" chain=\"Article Writer\" execution_unit=\"Article Writer: Expand the 'The Rise of Arcade and Console Gaming' section to cover the transition from 2D to 3D gaming, the rise of online gaming, the impact of mobile gaming, and the advent of virtual and augmented reality games.\"\n",
      "[2023-07-25 19:01:57-0400 INFO chain_Article Writer_0 council.skills.skill_base:execute_skill:82] message=\"skill execution started\" skill=\"SectionWriterSkill\"\n",
      "[2023-07-25 19:02:49-0400 INFO chain_Article Writer_0 council.skills.skill_base:execute_skill:85] message=\"skill execution ended\" skill=\"SectionWriterSkill\" skill_message=\"I've written or edited the article and placed it in the 'data' field.\"\n",
      "[2023-07-25 19:02:49-0400 INFO MainThread council.agents.agent:execute:76] message=\"chain execution ended\" chain=\"Article Writer\" execution_unit=\"Article Writer: Expand the 'The Rise of Arcade and Console Gaming' section to cover the transition from 2D to 3D gaming, the rise of online gaming, the impact of mobile gaming, and the advent of virtual and augmented reality games.\"\n",
      "[2023-07-25 19:02:49-0400 INFO MainThread council.agents.agent:execute:71] message=\"chain execution started\" chain=\"Article Writer\" execution_unit=\"Article Writer: Revise the 'The Origins of Video Games' section to include more details about the first video games, their origins, and pioneers. Also, include information about the birth of arcade games and the advent of home consoles.\"\n",
      "[2023-07-25 19:02:49-0400 INFO chain_Article Writer_0 council.skills.skill_base:execute_skill:82] message=\"skill execution started\" skill=\"SectionWriterSkill\"\n",
      "[2023-07-25 19:03:45-0400 INFO chain_Article Writer_0 council.skills.skill_base:execute_skill:85] message=\"skill execution ended\" skill=\"SectionWriterSkill\" skill_message=\"I've written or edited the article and placed it in the 'data' field.\"\n",
      "[2023-07-25 19:03:45-0400 INFO MainThread council.agents.agent:execute:76] message=\"chain execution ended\" chain=\"Article Writer\" execution_unit=\"Article Writer: Revise the 'The Origins of Video Games' section to include more details about the first video games, their origins, and pioneers. Also, include information about the birth of arcade games and the advent of home consoles.\"\n",
      "[2023-07-25 19:03:45-0400 INFO MainThread council.agents.agent:execute:71] message=\"chain execution started\" chain=\"Article Writer\" execution_unit=\"Article Writer: In the 'The Future of Video Games' section, include more information about emerging trends in video gaming and the potential of video games in other fields like healthcare and education.\"\n",
      "[2023-07-25 19:03:45-0400 INFO chain_Article Writer_0 council.skills.skill_base:execute_skill:82] message=\"skill execution started\" skill=\"SectionWriterSkill\"\n",
      "[2023-07-25 19:04:24-0400 INFO chain_Article Writer_0 council.skills.skill_base:execute_skill:85] message=\"skill execution ended\" skill=\"SectionWriterSkill\" skill_message=\"I've written or edited the article and placed it in the 'data' field.\"\n",
      "[2023-07-25 19:04:24-0400 INFO MainThread council.agents.agent:execute:76] message=\"chain execution ended\" chain=\"Article Writer\" execution_unit=\"Article Writer: In the 'The Future of Video Games' section, include more information about emerging trends in video gaming and the potential of video games in other fields like healthcare and education.\"\n",
      "[2023-07-25 19:05:45-0400 INFO MainThread council.agents.agent:execute:88] message=\"agent execution ended\"\n"
     ]
    }
   ],
   "source": [
    "# Run Agent\n",
    "\n",
    "chat_history.add_user_message(\"Write a detailed research article about the history of video games.\")\n",
    "result = agent.execute(run_context, Budget(1200))"
   ]
  },
  {
   "cell_type": "code",
   "execution_count": 9,
   "metadata": {},
   "outputs": [
    {
     "name": "stdout",
     "output_type": "stream",
     "text": [
      "# The History of Video Games\n",
      "\n",
      "## Introduction\n",
      "\n",
      "The history of video games is a fascinating journey that spans over half a century, from the rudimentary games of the 1950s to the immersive and complex digital worlds of today. This article will delve into the evolution of video games, exploring the technological advancements, key milestones, and influential figures that have shaped this dynamic industry.\n",
      "\n",
      "## The Origins of Video Games\n",
      "\n",
      "The origins of video games can be traced back to the 1950s, when scientists began to experiment with computer games as a form of entertainment. The first video game, a simple simulation called \"Tennis for Two,\" was created in 1958 by physicist William Higinbotham. This rudimentary game, played on an oscilloscope, laid the groundwork for the development of more complex games in the decades to come.\n",
      "\n",
      "In the 1960s, video games took a significant leap forward. In 1962, a young MIT student named Steve Russell invented \"Spacewar!\", the first game intended for computer use. \"Spacewar!\" was a two-player game that involved dueling spaceships and was the first to incorporate a digital computer to manage the game's physics.\n",
      "\n",
      "## The Birth of Arcade Games and the Advent of Home Consoles\n",
      "\n",
      "The 1970s marked the birth of arcade games. Nolan Bushnell and Ted Dabney founded Atari in 1972 and released \"Pong,\" an arcade version of \"Tennis for Two.\" \"Pong\" was a massive success, sparking the beginning of the lucrative arcade game industry.\n",
      "\n",
      "The mid-1970s also saw the advent of home consoles. The Magnavox Odyssey, released in 1972, was the first home video game console. It used a light gun for shooting games and came with several game cards for different games. However, it was the Atari 2600, released in 1977, that truly popularized home consoles. The Atari 2600 offered interchangeable game cartridges, a simple user interface, and a joystick controller, setting the standard for subsequent consoles.\n",
      "\n",
      "## Transition from 2D to 3D Gaming\n",
      "\n",
      "The 1990s marked a significant shift in the video game industry with the transition from 2D to 3D gaming. This transition was made possible by advancements in computer graphics technology. Games like \"Super Mario 64\" and \"The Legend of Zelda: Ocarina of Time\" showcased the potential of 3D environments, offering players a new level of immersion and interactivity.\n",
      "\n",
      "## The Rise of Online Gaming\n",
      "\n",
      "The late 1990s and early 2000s saw the rise of online gaming, facilitated by the widespread adoption of the internet. Online multiplayer games like \"World of Warcraft\" and \"Counter-Strike\" allowed players from around the world to compete against each other in real time, fostering global communities and competitive esports.\n",
      "\n",
      "## The Impact of Mobile Gaming\n",
      "\n",
      "The advent of smartphones and tablets in the late 2000s revolutionized the gaming landscape once again. Mobile gaming made video games accessible to a wider audience, with games like \"Angry Birds\" and \"Candy Crush Saga\" becoming cultural phenomena. The convenience of playing games on the go led to a surge in the popularity of mobile games.\n",
      "\n",
      "## The Advent of Virtual and Augmented Reality Games\n",
      "\n",
      "The 2010s brought about the advent of virtual and augmented reality games. These technologies offered a new level of immersion, allowing players to interact with game environments in ways previously unimaginable. Games like \"Pokémon Go\" and \"Beat Saber\" demonstrated the potential of these technologies, paving the way for the future of gaming.\n",
      "\n",
      "## The Cultural and Societal Implications of Video Games\n",
      "\n",
      "Video games have had a significant impact on culture and society. They have influenced everything from music and film to fashion and architecture, and have even been used as a tool for social change. At the same time, they have also sparked debates about issues such as violence in media and the effects of screen time on mental health.\n",
      "\n",
      "## The Future of Video Games\n",
      "\n",
      "The future of video games is exciting and uncertain. With advancements in technology such as virtual reality and artificial intelligence, the possibilities for new types of gaming experiences are endless. Emerging trends like cloud gaming and cross-platform play are set to redefine the gaming landscape. \n",
      "\n",
      "Moreover, video games are finding applications beyond entertainment. In healthcare, video games are being used for rehabilitation and to help manage conditions like ADHD and depression. In education, they are being used to make learning more interactive and engaging, and to develop skills like problem-solving and collaboration.\n",
      "\n",
      "As we look to the future, it's clear that video games will continue to evolve and shape our culture in ways we can't yet imagine.\n",
      "\n",
      "## Conclusion\n",
      "\n",
      "Whether you're a seasoned gamer or simply curious about the history of this popular form of entertainment, this article offers a comprehensive and engaging overview of the world of video games. As we've seen, video games have come a long way from their humble beginnings, and their potential to influence and innovate in various fields is immense. The future of video games is indeed promising and full of exciting possibilities.\n",
      "\n"
     ]
    }
   ],
   "source": [
    "print(result.messages[-1].message.message)"
   ]
  },
  {
   "cell_type": "code",
   "execution_count": 10,
   "metadata": {},
   "outputs": [
    {
     "name": "stderr",
     "output_type": "stream",
     "text": [
      "[2023-07-25 20:08:05-0400 INFO MainThread council.agents.agent:execute:60] message=\"agent execution started\"\n",
      "[2023-07-25 20:08:05-0400 INFO MainThread council.agents.agent:execute:62] message=\"agent iteration started\" iteration=\"3\"\n",
      "[2023-07-25 20:08:19-0400 INFO MainThread council.agents.agent:execute:71] message=\"chain execution started\" chain=\"Article Writer\" execution_unit=\"Article Writer: Expand the 'Early History of Video Games' section by adding more details about the first video games, origins and pioneers, the birth of arcade games, and the advent of home consoles.\"\n",
      "[2023-07-25 20:08:19-0400 INFO chain_Article Writer_0 council.skills.skill_base:execute_skill:82] message=\"skill execution started\" skill=\"SectionWriterSkill\"\n",
      "[2023-07-25 20:08:58-0400 INFO chain_Article Writer_0 council.skills.skill_base:execute_skill:85] message=\"skill execution ended\" skill=\"SectionWriterSkill\" skill_message=\"I've written or edited the article and placed it in the 'data' field.\"\n",
      "[2023-07-25 20:08:58-0400 INFO MainThread council.agents.agent:execute:76] message=\"chain execution ended\" chain=\"Article Writer\" execution_unit=\"Article Writer: Expand the 'Early History of Video Games' section by adding more details about the first video games, origins and pioneers, the birth of arcade games, and the advent of home consoles.\"\n",
      "[2023-07-25 20:08:58-0400 INFO MainThread council.agents.agent:execute:71] message=\"chain execution started\" chain=\"Article Writer\" execution_unit=\"Article Writer: Expand the 'Evolution of Video Games' section by adding more details about the transition from 2D to 3D gaming, the rise of online gaming, the impact of mobile gaming, and the advent of virtual and augmented reality games.\"\n",
      "[2023-07-25 20:08:58-0400 INFO chain_Article Writer_0 council.skills.skill_base:execute_skill:82] message=\"skill execution started\" skill=\"SectionWriterSkill\"\n",
      "[2023-07-25 20:10:10-0400 INFO chain_Article Writer_0 council.skills.skill_base:execute_skill:85] message=\"skill execution ended\" skill=\"SectionWriterSkill\" skill_message=\"I've written or edited the article and placed it in the 'data' field.\"\n",
      "[2023-07-25 20:10:10-0400 INFO MainThread council.agents.agent:execute:76] message=\"chain execution ended\" chain=\"Article Writer\" execution_unit=\"Article Writer: Expand the 'Evolution of Video Games' section by adding more details about the transition from 2D to 3D gaming, the rise of online gaming, the impact of mobile gaming, and the advent of virtual and augmented reality games.\"\n",
      "[2023-07-25 20:10:10-0400 INFO MainThread council.agents.agent:execute:71] message=\"chain execution started\" chain=\"Article Writer\" execution_unit=\"Article Writer: Expand the 'Impact on Society' section by adding more details about the economic impact of the video game industry, the influence of video games on popular culture, the role of video games in education and skill development, and controversies and criticisms.\"\n",
      "[2023-07-25 20:10:10-0400 INFO chain_Article Writer_0 council.skills.skill_base:execute_skill:82] message=\"skill execution started\" skill=\"SectionWriterSkill\"\n",
      "[2023-07-25 20:11:04-0400 INFO chain_Article Writer_0 council.skills.skill_base:execute_skill:85] message=\"skill execution ended\" skill=\"SectionWriterSkill\" skill_message=\"I've written or edited the article and placed it in the 'data' field.\"\n",
      "[2023-07-25 20:11:04-0400 INFO MainThread council.agents.agent:execute:76] message=\"chain execution ended\" chain=\"Article Writer\" execution_unit=\"Article Writer: Expand the 'Impact on Society' section by adding more details about the economic impact of the video game industry, the influence of video games on popular culture, the role of video games in education and skill development, and controversies and criticisms.\"\n",
      "[2023-07-25 20:12:39-0400 INFO MainThread council.agents.agent:execute:88] message=\"agent execution ended\"\n"
     ]
    }
   ],
   "source": [
    "chat_history.add_user_message(\"Can you please add more details in each section?\")\n",
    "result = agent.execute(run_context, Budget(600))"
   ]
  },
  {
   "cell_type": "code",
   "execution_count": 11,
   "metadata": {},
   "outputs": [
    {
     "name": "stdout",
     "output_type": "stream",
     "text": [
      "# The History of Video Games\n",
      "\n",
      "## Introduction\n",
      "\n",
      "The history of video games is a captivating journey that spans over half a century, from the rudimentary games of the 1950s to the immersive and complex digital worlds of today. This article will delve into the evolution of video games, exploring the technological advancements, key milestones, and influential figures that have shaped this dynamic industry.\n",
      "\n",
      "## Early History of Video Games\n",
      "\n",
      "### The First Video Games: Origins and Pioneers\n",
      "\n",
      "The origins of video games can be traced back to the 1950s, when scientists began to experiment with computer games as a form of entertainment. The first video game, a simple simulation called \"Tennis for Two,\" was created in 1958 by physicist William Higinbotham. This rudimentary game, played on an oscilloscope, laid the groundwork for the development of more complex games in the decades to come.\n",
      "\n",
      "In the 1960s, video games took a significant leap forward. In 1962, a young MIT student named Steve Russell invented \"Spacewar!\", the first game intended for computer use. \"Spacewar!\" was a two-player game that involved dueling spaceships and was the first to incorporate a digital computer to manage the game's physics. This game was a pioneer in the video game industry, setting the stage for the development of arcade and console games.\n",
      "\n",
      "### The Birth of Arcade Games\n",
      "\n",
      "The 1970s marked the birth of arcade games. Nolan Bushnell and Ted Dabney founded Atari in 1972 and released \"Pong,\" an arcade version of \"Tennis for Two.\" \"Pong\" was a massive success, sparking the beginning of the lucrative arcade game industry. The game was simple, yet addictive, and its popularity led to the widespread establishment of arcades across the United States. This era, known as the \"Golden Age of Arcade Games,\" saw the release of other iconic games such as \"Space Invaders\" and \"Pac-Man.\"\n",
      "\n",
      "### The Advent of Home Consoles\n",
      "\n",
      "The mid-1970s also saw the advent of home consoles. The Magnavox Odyssey, released in 1972, was the first home video game console. It used a light gun for shooting games and came with several game cards for different games. However, it was the Atari 2600, released in 1977, that truly popularized home consoles. The Atari 2600 offered interchangeable game cartridges, a simple user interface, and a joystick controller, setting the standard for subsequent consoles. This marked a significant milestone in the history of video games, making them accessible to the general public and not just computer scientists or arcade enthusiasts.\n",
      "\n",
      "## Evolution of Video Games\n",
      "\n",
      "### Transition from 2D to 3D Gaming\n",
      "\n",
      "The 1990s marked a significant shift in the video game industry with the transition from 2D to 3D gaming. This transition was made possible by advancements in computer graphics technology, particularly the development of the Graphics Processing Unit (GPU). The GPU allowed for real-time rendering of 3D graphics, providing a more immersive and realistic gaming experience. Games like \"Super Mario 64\" and \"The Legend of Zelda: Ocarina of Time\" showcased the potential of 3D environments, offering players a new level of immersion and interactivity.\n",
      "\n",
      "### The Rise of Online Gaming\n",
      "\n",
      "The late 1990s and early 2000s saw the rise of online gaming, facilitated by the widespread adoption of the internet. Online multiplayer games like \"World of Warcraft\" and \"Counter-Strike\" allowed players from around the world to compete against each other in real time, fostering global communities and competitive esports. The development of Massively Multiplayer Online Games (MMOGs) and Multiplayer Online Battle Arenas (MOBAs) further expanded the scope and scale of online gaming, creating virtual worlds where millions of players could interact and engage in cooperative or competitive gameplay.\n",
      "\n",
      "### The Impact of Mobile Gaming\n",
      "\n",
      "The advent of smartphones and tablets in the late 2000s revolutionized the gaming landscape once again. Mobile gaming made video games accessible to a wider audience, with games like \"Angry Birds\" and \"Candy Crush Saga\" becoming cultural phenomena. The convenience of playing games on the go led to a surge in the popularity of mobile games. Furthermore, the development of app stores provided a platform for independent developers to publish their games, leading to a proliferation of innovative and diverse mobile games.\n",
      "\n",
      "### The Advent of Virtual and Augmented Reality Games\n",
      "\n",
      "The 2010s brought about the advent of virtual and augmented reality games. These technologies offered a new level of immersion, allowing players to interact with game environments in ways previously unimaginable. Virtual reality (VR) games, such as \"Beat Saber\", provide a fully immersive experience, with players navigating and interacting with the game environment through motion tracking and VR headsets. Augmented reality (AR) games, like \"Pokémon Go\", overlay game elements onto the real world, creating a unique blend of digital and physical gameplay.\n",
      "\n",
      "## The Cultural and Societal Implications of Video Games\n",
      "\n",
      "Video games have had a significant impact on culture and society. They have influenced everything from music and film to fashion and architecture, and have even been used as a tool for social change. At the same time, they have also sparked debates about issues such as violence in media and the effects of screen time on mental health.\n",
      "\n",
      "## The Future of Video Games\n",
      "\n",
      "The future of video games is exciting and uncertain. With advancements in technology such as virtual reality and artificial intelligence, the possibilities for new types of gaming experiences are endless. Emerging trends like cloud gaming and cross-platform play are set to redefine the gaming landscape. \n",
      "\n",
      "Moreover, video games are finding applications beyond entertainment. In healthcare, video games are being used for rehabilitation and to help manage conditions like ADHD and depression. In education, they are being used to make learning more interactive and engaging, and to develop skills like problem-solving and collaboration.\n",
      "\n",
      "## Conclusion\n",
      "\n",
      "Whether you're a seasoned gamer or simply curious about the history of this popular form of entertainment, this article offers a comprehensive and engaging overview of the world of video games. As we've seen, video games have come a long way from their humble beginnings, and their potential to influence and innovate in various fields is immense. The future of video games is indeed promising and full of exciting possibilities.\n"
     ]
    }
   ],
   "source": [
    "print(result.messages[-1].message.message)"
   ]
  },
  {
   "cell_type": "code",
   "execution_count": null,
   "metadata": {},
   "outputs": [],
   "source": []
  }
 ],
 "metadata": {
  "kernelspec": {
   "display_name": "writing-assistant-tutorial",
   "language": "python",
   "name": "python3"
  },
  "language_info": {
   "codemirror_mode": {
    "name": "ipython",
    "version": 3
   },
   "file_extension": ".py",
   "mimetype": "text/x-python",
   "name": "python",
   "nbconvert_exporter": "python",
   "pygments_lexer": "ipython3",
   "version": "3.11.4"
  },
  "orig_nbformat": 4
 },
 "nbformat": 4,
 "nbformat_minor": 2
}
