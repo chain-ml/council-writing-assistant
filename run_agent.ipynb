{
 "cells": [
  {
   "cell_type": "code",
   "execution_count": 1,
   "metadata": {},
   "outputs": [],
   "source": [
    "# Set up logging\n",
    "\n",
    "import logging\n",
    "\n",
    "logging.basicConfig(\n",
    "    format=\"[%(asctime)s %(levelname)s %(threadName)s %(name)s:%(funcName)s:%(lineno)s] %(message)s\",\n",
    "    datefmt=\"%Y-%m-%d %H:%M:%S%z\",\n",
    ")\n",
    "logging.getLogger(\"council\").setLevel(logging.INFO)"
   ]
  },
  {
   "cell_type": "code",
   "execution_count": 2,
   "metadata": {},
   "outputs": [],
   "source": [
    "# Council imports\n",
    "\n",
    "from council.runners import Budget\n",
    "from council.contexts import AgentContext, ChatHistory\n",
    "from council.agents import Agent\n",
    "from council.chains import Chain\n",
    "from council.llm.openai_llm_configuration import OpenAILLMConfiguration\n",
    "from council.llm.openai_llm import OpenAILLM\n",
    "\n",
    "from skills import SectionWriterSkill, OutlineWriterSkill\n",
    "from controller import WritingAssistantController\n",
    "from evaluator import BasicEvaluatorWithSource"
   ]
  },
  {
   "cell_type": "code",
   "execution_count": 3,
   "metadata": {},
   "outputs": [],
   "source": [
    "# Read environment variables and initialize OpenAI LLM instance\n",
    "\n",
    "import dotenv\n",
    "dotenv.load_dotenv()\n",
    "openai_llm = OpenAILLM(config=OpenAILLMConfiguration.from_env())"
   ]
  },
  {
   "cell_type": "code",
   "execution_count": 4,
   "metadata": {},
   "outputs": [],
   "source": [
    "# Create Skills\n",
    "\n",
    "outline_skill = OutlineWriterSkill(openai_llm)\n",
    "writing_skill = SectionWriterSkill(openai_llm)"
   ]
  },
  {
   "cell_type": "code",
   "execution_count": 5,
   "metadata": {},
   "outputs": [],
   "source": [
    "# Create Chains\n",
    "\n",
    "outline_chain = Chain(\n",
    "    name=\"Outline Writer\",\n",
    "    description=\"Write or revise the outline (i.e. section headers) of a research article in markdown format. Only use this chain when the ARTICLE OUTLINE is missing or incomplete.\",\n",
    "    runners=[outline_skill]\n",
    ")\n",
    "\n",
    "writer_chain = Chain(\n",
    "    name=\"Article Writer\",\n",
    "    description=\"Write or revise specific section bodies of a research article in markdown format. Use this chain to write the main research article content.\",\n",
    "    runners=[writing_skill]\n",
    ")"
   ]
  },
  {
   "cell_type": "code",
   "execution_count": 6,
   "metadata": {},
   "outputs": [],
   "source": [
    "# Create Controller\n",
    "\n",
    "controller = WritingAssistantController(\n",
    "    openai_llm,\n",
    "    top_k_execution_plan=3\n",
    ")"
   ]
  },
  {
   "cell_type": "code",
   "execution_count": 7,
   "metadata": {},
   "outputs": [],
   "source": [
    "# Initialize Agent\n",
    "\n",
    "chat_history = ChatHistory()\n",
    "run_context = AgentContext(chat_history)\n",
    "agent = Agent(controller, [outline_chain, writer_chain], BasicEvaluatorWithSource())"
   ]
  },
  {
   "cell_type": "code",
   "execution_count": 8,
   "metadata": {},
   "outputs": [
    {
     "name": "stderr",
     "output_type": "stream",
     "text": [
      "[2023-07-26 12:54:30-0400 INFO MainThread council.agents.agent:execute:60] message=\"agent execution started\"\n",
      "[2023-07-26 12:54:30-0400 INFO MainThread council.agents.agent:execute:62] message=\"agent iteration started\" iteration=\"1\"\n",
      "[2023-07-26 12:54:36-0400 INFO MainThread council.agents.agent:execute:71] message=\"chain execution started\" chain=\"Outline Writer\" execution_unit=\"Outline Writer: Create an outline for the research article about the history of video games. The outline should include sections such as Introduction, Early History, Evolution of Video Games, Impact on Society, and Conclusion.\"\n",
      "[2023-07-26 12:54:36-0400 INFO chain_Outline Writer_0 council.skills.skill_base:execute_skill:82] message=\"skill execution started\" skill=\"OutlineWriterSkill\"\n",
      "[2023-07-26 12:54:49-0400 INFO chain_Outline Writer_0 council.skills.skill_base:execute_skill:85] message=\"skill execution ended\" skill=\"OutlineWriterSkill\" skill_message=\"I've edited the outline and placed the response in the 'data' field.\"\n",
      "[2023-07-26 12:54:49-0400 INFO MainThread council.agents.agent:execute:76] message=\"chain execution ended\" chain=\"Outline Writer\" execution_unit=\"Outline Writer: Create an outline for the research article about the history of video games. The outline should include sections such as Introduction, Early History, Evolution of Video Games, Impact on Society, and Conclusion.\"\n",
      "[2023-07-26 12:54:49-0400 INFO MainThread council.agents.agent:execute:71] message=\"chain execution started\" chain=\"Article Writer\" execution_unit=\"Article Writer: Once the outline is ready, start writing the Introduction section, providing a brief overview of the topic and what the article will cover.\"\n",
      "[2023-07-26 12:54:49-0400 INFO chain_Article Writer_0 council.skills.skill_base:execute_skill:82] message=\"skill execution started\" skill=\"SectionWriterSkill\"\n",
      "[2023-07-26 12:55:00-0400 INFO chain_Article Writer_0 council.skills.skill_base:execute_skill:85] message=\"skill execution ended\" skill=\"SectionWriterSkill\" skill_message=\"I've written or edited the article and placed it in the 'data' field.\"\n",
      "[2023-07-26 12:55:00-0400 INFO MainThread council.agents.agent:execute:76] message=\"chain execution ended\" chain=\"Article Writer\" execution_unit=\"Article Writer: Once the outline is ready, start writing the Introduction section, providing a brief overview of the topic and what the article will cover.\"\n",
      "[2023-07-26 12:56:02-0400 INFO MainThread council.agents.agent:execute:62] message=\"agent iteration started\" iteration=\"2\"\n",
      "[2023-07-26 12:56:17-0400 INFO MainThread council.agents.agent:execute:71] message=\"chain execution started\" chain=\"Article Writer\" execution_unit=\"Article Writer: Expand the 'Evolution of Video Games' section to include more information about the transition from 2D to 3D gaming, the rise of online and multiplayer gaming, the emergence of mobile gaming, and the advent of virtual and augmented reality games.\"\n",
      "[2023-07-26 12:56:17-0400 INFO chain_Article Writer_0 council.skills.skill_base:execute_skill:82] message=\"skill execution started\" skill=\"SectionWriterSkill\"\n",
      "[2023-07-26 12:57:17-0400 INFO chain_Article Writer_0 council.skills.skill_base:execute_skill:85] message=\"skill execution ended\" skill=\"SectionWriterSkill\" skill_message=\"I've written or edited the article and placed it in the 'data' field.\"\n",
      "[2023-07-26 12:57:17-0400 INFO MainThread council.agents.agent:execute:76] message=\"chain execution ended\" chain=\"Article Writer\" execution_unit=\"Article Writer: Expand the 'Evolution of Video Games' section to include more information about the transition from 2D to 3D gaming, the rise of online and multiplayer gaming, the emergence of mobile gaming, and the advent of virtual and augmented reality games.\"\n",
      "[2023-07-26 12:57:17-0400 INFO MainThread council.agents.agent:execute:71] message=\"chain execution started\" chain=\"Article Writer\" execution_unit=\"Article Writer: Revise the 'Early History of Video Games' section to include more details about the birth of arcade games and the advent of home consoles.\"\n",
      "[2023-07-26 12:57:17-0400 INFO chain_Article Writer_0 council.skills.skill_base:execute_skill:82] message=\"skill execution started\" skill=\"SectionWriterSkill\"\n",
      "[2023-07-26 12:58:15-0400 INFO chain_Article Writer_0 council.skills.skill_base:execute_skill:85] message=\"skill execution ended\" skill=\"SectionWriterSkill\" skill_message=\"I've written or edited the article and placed it in the 'data' field.\"\n",
      "[2023-07-26 12:58:15-0400 INFO MainThread council.agents.agent:execute:76] message=\"chain execution ended\" chain=\"Article Writer\" execution_unit=\"Article Writer: Revise the 'Early History of Video Games' section to include more details about the birth of arcade games and the advent of home consoles.\"\n",
      "[2023-07-26 12:58:15-0400 INFO MainThread council.agents.agent:execute:71] message=\"chain execution started\" chain=\"Article Writer\" execution_unit=\"Article Writer: Add more depth to the 'Impact on Society' section by discussing the economic impact of the video game industry, the influence of video games on popular culture, the role of video games in education and skill development, and controversies and criticisms such as violence, addiction, and social isolation.\"\n",
      "[2023-07-26 12:58:15-0400 INFO chain_Article Writer_0 council.skills.skill_base:execute_skill:82] message=\"skill execution started\" skill=\"SectionWriterSkill\"\n",
      "[2023-07-26 12:59:18-0400 INFO chain_Article Writer_0 council.skills.skill_base:execute_skill:85] message=\"skill execution ended\" skill=\"SectionWriterSkill\" skill_message=\"I've written or edited the article and placed it in the 'data' field.\"\n",
      "[2023-07-26 12:59:18-0400 INFO MainThread council.agents.agent:execute:76] message=\"chain execution ended\" chain=\"Article Writer\" execution_unit=\"Article Writer: Add more depth to the 'Impact on Society' section by discussing the economic impact of the video game industry, the influence of video games on popular culture, the role of video games in education and skill development, and controversies and criticisms such as violence, addiction, and social isolation.\"\n",
      "[2023-07-26 13:00:49-0400 INFO MainThread council.agents.agent:execute:88] message=\"agent execution ended\"\n"
     ]
    }
   ],
   "source": [
    "# Run Agent\n",
    "\n",
    "chat_history.add_user_message(\"Write a detailed research article about the history of video games.\")\n",
    "result = agent.execute(run_context, Budget(1200))"
   ]
  },
  {
   "cell_type": "code",
   "execution_count": 9,
   "metadata": {},
   "outputs": [
    {
     "name": "stdout",
     "output_type": "stream",
     "text": [
      "# The History of Video Games: A Detailed Exploration\n",
      "\n",
      "## Introduction\n",
      "\n",
      "The history of video games is a fascinating journey that spans over half a century, from the rudimentary games of the 1950s to the immersive and complex digital worlds of today. This article will delve into the evolution of video games, tracing their origins, the technological advancements that have shaped them, and the cultural impact they have had over the years. We will explore the key milestones in the development of video games, the influential figures who have driven this industry forward, and the trends that have defined each era. Whether you are a seasoned gamer or simply interested in the intersection of technology and culture, this exploration of video game history promises to be an enlightening read.\n",
      "\n",
      "## The Early Days: 1950s - 1970s\n",
      "\n",
      "The history of video games began in the 1950s when scientists started to design simple games and simulations as part of their computer science research. The first video game, \"Tennis for Two,\" was created in 1958 by physicist William Higinbotham. It was a simple tennis game, similar to the classic 1970s video game Pong, and it was quite a hit at a Brookhaven National Laboratory open house.\n",
      "\n",
      "The 1970s marked a significant era in the history of video games with the birth of arcade games. The first commercially successful video game, Pong, was released by Atari in 1972. Pong was a simple tennis game that became a huge hit, sparking the beginning of the video game industry. This success led to the proliferation of arcade games, with titles like Space Invaders (1978) and Pac-Man (1980) becoming cultural phenomena. These games not only dominated arcades but also entered homes with the advent of home consoles.\n",
      "\n",
      "The late 1970s also saw the advent of home consoles, a significant milestone in the video game industry. The Magnavox Odyssey, released in 1972, was the first home video game console. However, it was the Atari 2600, released in 1977, that popularized home video gaming. The Atari 2600 offered interchangeable game cartridges, a feature that allowed players to switch games at their leisure. This marked the beginning of the home console era, setting the stage for future consoles like the Nintendo Entertainment System and the Sega Genesis.\n",
      "\n",
      "## The Golden Age: 1980s - 1990s\n",
      "\n",
      "The 1980s and 1990s are often referred to as the \"golden age\" of video games. This era saw the release of iconic games like Super Mario Bros., The Legend of Zelda, and Sonic the Hedgehog. These games introduced characters that are still beloved today and set the standard for future video games.\n",
      "\n",
      "The 1990s also saw the rise of 3D graphics in video games. Games like Doom and Quake were pioneers in this field, offering players a new level of immersion and realism. The transition from 2D to 3D gaming was a significant milestone in the evolution of video games, providing a more immersive and realistic gaming experience.\n",
      "\n",
      "## The Modern Era: 2000s - Present\n",
      "\n",
      "The 2000s brought about a revolution in video game technology with the introduction of online gaming. Games like World of Warcraft and Call of Duty allowed players to connect and play with others around the world, creating a global gaming community. This era also saw the rise of multiplayer gaming, where players could compete or cooperate with each other, adding a new dimension to the gaming experience.\n",
      "\n",
      "The advent of smartphones and tablets in the late 2000s led to the emergence of mobile gaming. Games like Angry Birds and Candy Crush became immensely popular, and the convenience of playing games on handheld devices opened up gaming to a wider audience. Mobile gaming has since become a significant segment of the video game industry, with its easy accessibility and wide range of games appealing to both casual and hardcore gamers.\n",
      "\n",
      "The most recent development in the evolution of video games is the advent of virtual and augmented reality games. These technologies provide an even more immersive gaming experience, allowing players to interact with the game environment in new and exciting ways. Games like Pokemon Go, which uses augmented reality to overlay game elements onto the real world, and Oculus Rift, a virtual reality gaming platform, are at the forefront of this new gaming revolution.\n",
      "\n",
      "## Impact on Society\n",
      "\n",
      "The video game industry has had a profound impact on society in various ways. Economically, it has grown into a multi-billion dollar industry, providing employment opportunities and contributing significantly to global economies. In 2020, the global video games market was valued at approximately 159.3 billion U.S. dollars.\n",
      "\n",
      "Video games have also permeated popular culture, influencing music, film, and fashion. Characters and narratives from games have become part of our collective cultural consciousness, and esports events draw audiences comparable to traditional sports.\n",
      "\n",
      "In the realm of education and skill development, video games have been recognized for their potential to enhance cognitive skills such as problem-solving, strategic thinking, and hand-eye coordination. They are increasingly being used in educational settings, from elementary schools to universities, for teaching a variety of subjects.\n",
      "\n",
      "However, the impact of video games on society is not without controversy. Criticisms include the portrayal of violence, the potential for addiction, and the risk of social isolation. Despite these concerns, research on these topics is ongoing and often inconclusive, and many argue that the benefits of gaming outweigh the potential negatives.\n",
      "\n",
      "## Conclusion\n",
      "\n",
      "From the simple games of the 1950s to the immersive digital worlds of today, the history of video games is a testament to the power of innovation and creativity. As we look to the future, it's exciting to imagine what the next chapter in this dynamic industry will bring.\n",
      "```\n"
     ]
    }
   ],
   "source": [
    "print(result.messages[-1].message.message)"
   ]
  },
  {
   "cell_type": "code",
   "execution_count": 10,
   "metadata": {},
   "outputs": [
    {
     "name": "stderr",
     "output_type": "stream",
     "text": [
      "[2023-07-26 13:00:49-0400 INFO MainThread council.agents.agent:execute:60] message=\"agent execution started\"\n",
      "[2023-07-26 13:00:49-0400 INFO MainThread council.agents.agent:execute:62] message=\"agent iteration started\" iteration=\"3\"\n",
      "[2023-07-26 13:01:07-0400 INFO MainThread council.agents.agent:execute:71] message=\"chain execution started\" chain=\"Article Writer\" execution_unit=\"Article Writer: In the \"Early History of Video Games\" section, add more information about the first video games, the birth of arcade games, and the advent of home consoles.\"\n",
      "[2023-07-26 13:01:07-0400 INFO chain_Article Writer_0 council.skills.skill_base:execute_skill:82] message=\"skill execution started\" skill=\"SectionWriterSkill\"\n",
      "[2023-07-26 13:02:47-0400 INFO chain_Article Writer_0 council.skills.skill_base:execute_skill:85] message=\"skill execution ended\" skill=\"SectionWriterSkill\" skill_message=\"I've written or edited the article and placed it in the 'data' field.\"\n",
      "[2023-07-26 13:02:47-0400 INFO MainThread council.agents.agent:execute:76] message=\"chain execution ended\" chain=\"Article Writer\" execution_unit=\"Article Writer: In the \"Early History of Video Games\" section, add more information about the first video games, the birth of arcade games, and the advent of home consoles.\"\n",
      "[2023-07-26 13:02:47-0400 INFO MainThread council.agents.agent:execute:71] message=\"chain execution started\" chain=\"Article Writer\" execution_unit=\"Article Writer: In the \"Evolution of Video Games\" section, provide more details about the transition from 2D to 3D gaming, the rise of online and multiplayer gaming, the emergence of mobile gaming, and the advent of virtual and augmented reality games.\"\n",
      "[2023-07-26 13:02:47-0400 INFO chain_Article Writer_0 council.skills.skill_base:execute_skill:82] message=\"skill execution started\" skill=\"SectionWriterSkill\"\n",
      "[2023-07-26 13:04:27-0400 INFO chain_Article Writer_0 council.skills.skill_base:execute_skill:85] message=\"skill execution ended\" skill=\"SectionWriterSkill\" skill_message=\"I've written or edited the article and placed it in the 'data' field.\"\n",
      "[2023-07-26 13:04:27-0400 INFO MainThread council.agents.agent:execute:76] message=\"chain execution ended\" chain=\"Article Writer\" execution_unit=\"Article Writer: In the \"Evolution of Video Games\" section, provide more details about the transition from 2D to 3D gaming, the rise of online and multiplayer gaming, the emergence of mobile gaming, and the advent of virtual and augmented reality games.\"\n",
      "[2023-07-26 13:04:27-0400 INFO MainThread council.agents.agent:execute:71] message=\"chain execution started\" chain=\"Article Writer\" execution_unit=\"Article Writer: Please add more details to the \"Introduction\" section, specifically about the importance of understanding the history of video games.\"\n",
      "[2023-07-26 13:04:27-0400 INFO chain_Article Writer_0 council.skills.skill_base:execute_skill:82] message=\"skill execution started\" skill=\"SectionWriterSkill\"\n",
      "[2023-07-26 13:06:29-0400 INFO chain_Article Writer_0 council.skills.skill_base:execute_skill:85] message=\"skill execution ended\" skill=\"SectionWriterSkill\" skill_message=\"I've written or edited the article and placed it in the 'data' field.\"\n",
      "[2023-07-26 13:06:29-0400 INFO MainThread council.agents.agent:execute:76] message=\"chain execution ended\" chain=\"Article Writer\" execution_unit=\"Article Writer: Please add more details to the \"Introduction\" section, specifically about the importance of understanding the history of video games.\"\n",
      "[2023-07-26 13:08:26-0400 INFO MainThread council.agents.agent:execute:88] message=\"agent execution ended\"\n"
     ]
    }
   ],
   "source": [
    "chat_history.add_user_message(\"Can you please add more details in each section?\")\n",
    "result = agent.execute(run_context, Budget(600))"
   ]
  },
  {
   "cell_type": "code",
   "execution_count": 11,
   "metadata": {},
   "outputs": [
    {
     "name": "stdout",
     "output_type": "stream",
     "text": [
      "# The History of Video Games: A Detailed Exploration\n",
      "\n",
      "## Introduction\n",
      "\n",
      "The history of video games is a fascinating journey that spans over half a century, from the rudimentary games of the 1950s to the immersive and complex digital worlds of today. This article will delve into the evolution of video games, tracing their origins, the technological advancements that have shaped them, and the cultural impact they have had over the years. Understanding the history of video games is crucial for several reasons. Firstly, it provides insight into the technological advancements that have occurred over the years. From simple 2D graphics to complex 3D environments, from standalone games to massively multiplayer online games, the progression of video game technology mirrors the broader advancements in computing and digital technology. \n",
      "\n",
      "Secondly, the history of video games offers a unique perspective on cultural trends and shifts. Video games, like any form of media, reflect and shape the society in which they are created. They are influenced by, and in turn influence, popular culture, societal norms, and global events. \n",
      "\n",
      "Lastly, studying the history of video games allows us to appreciate the creativity and innovation of game developers. The evolution of video games is a testament to human ingenuity, with each new generation of games pushing the boundaries of what is possible. \n",
      "\n",
      "## The Early Days: 1950s - 1970s\n",
      "\n",
      "The history of video games began in the 1950s when scientists started to design simple games and simulations as part of their computer science research. The first video game, \"Tennis for Two,\" was created in 1958 by physicist William Higinbotham. It was a simple tennis game, similar to the classic 1970s video game Pong, and it was quite a hit at a Brookhaven National Laboratory open house. This game was played on an oscilloscope, a piece of electronic test equipment, and was a far cry from the sophisticated games we see today.\n",
      "\n",
      "The 1970s marked a significant era in the history of video games with the birth of arcade games. The first commercially successful video game, Pong, was released by Atari in 1972. Pong was a simple tennis game that became a huge hit, sparking the beginning of the video game industry. This success led to the proliferation of arcade games, with titles like Space Invaders (1978) and Pac-Man (1980) becoming cultural phenomena. These games not only dominated arcades but also entered homes with the advent of home consoles. The popularity of these games led to the establishment of gaming as a mainstream hobby and the arcade as a major social venue for teenagers.\n",
      "\n",
      "The late 1970s also saw the advent of home consoles, a significant milestone in the video game industry. The Magnavox Odyssey, released in 1972, was the first home video game console. However, it was the Atari 2600, released in 1977, that popularized home video gaming. The Atari 2600 offered interchangeable game cartridges, a feature that allowed players to switch games at their leisure. This marked the beginning of the home console era, setting the stage for future consoles like the Nintendo Entertainment System and the Sega Genesis. The introduction of home consoles brought about a shift in the gaming landscape, making video games accessible to a wider audience and allowing gamers to enjoy their favorite games in the comfort of their own homes.\n",
      "\n",
      "## The Golden Age: 1980s - 1990s\n",
      "\n",
      "The 1980s and 1990s are often referred to as the \"golden age\" of video games. This era saw the release of iconic games like Super Mario Bros., The Legend of Zelda, and Sonic the Hedgehog. These games introduced characters that are still beloved today and set the standard for future video games.\n",
      "\n",
      "The 1990s also saw the rise of 3D graphics in video games. Games like Doom and Quake were pioneers in this field, offering players a new level of immersion and realism. The transition from 2D to 3D gaming was a significant milestone in the evolution of video games. It allowed for the creation of more complex and realistic environments, characters, and gameplay mechanics. This shift also led to the development of new genres, such as first-person shooters and real-time strategy games, which took full advantage of the possibilities offered by 3D graphics.\n",
      "\n",
      "## The Modern Era: 2000s - Present\n",
      "\n",
      "The 2000s brought about a revolution in video game technology with the introduction of online gaming. Games like World of Warcraft and Call of Duty allowed players to connect and play with others around the world, creating a global gaming community. This era also saw the rise of multiplayer gaming, where players could compete or cooperate with each other, adding a new dimension to the gaming experience. Multiplayer gaming not only fostered social interaction but also led to the emergence of competitive gaming or esports, which has since become a significant aspect of the gaming culture.\n",
      "\n",
      "The advent of smartphones and tablets in the late 2000s led to the emergence of mobile gaming. Games like Angry Birds and Candy Crush became immensely popular, and the convenience of playing games on handheld devices opened up gaming to a wider audience. Mobile gaming has since become a significant segment of the video game industry, with its easy accessibility and wide range of games appealing to both casual and hardcore gamers. The rise of mobile gaming also led to the development of new monetization models, such as freemium and in-app purchases, which have significantly influenced the economics of the gaming industry.\n",
      "\n",
      "The most recent development in the evolution of video games is the advent of virtual and augmented reality games. These technologies provide an even more immersive gaming experience, allowing players to interact with the game environment in new and exciting ways. Games like Pokemon Go, which uses augmented reality to overlay game elements onto the real world, and Oculus Rift, a virtual reality gaming platform, are at the forefront of this new gaming revolution. These technologies are not only changing the way we play games but also have potential applications in fields like education, training, and therapy.\n",
      "\n",
      "## Impact on Society\n",
      "\n",
      "The video game industry has had a profound impact on society in various ways. Economically, it has grown into a multi-billion dollar industry, providing employment opportunities and contributing significantly to global economies. In 2020, the global video games market was valued at approximately 159.3 billion U.S. dollars.\n",
      "\n",
      "Video games have also permeated popular culture, influencing music, film, and fashion. Characters and narratives from games have become part of our collective cultural consciousness, and esports events draw audiences comparable to traditional sports.\n",
      "\n",
      "In the realm of education and skill development, video games have been recognized for their potential to enhance cognitive skills such as problem-solving, strategic thinking, and hand-eye coordination. They are increasingly being used in educational settings, from elementary schools to universities, for teaching a variety of subjects.\n",
      "\n",
      "However, the impact of video games on society is not without controversy. Criticisms include the portrayal of violence, the potential for addiction, and the risk of social isolation. Despite these concerns, research on these topics is ongoing and often inconclusive, and many argue that the benefits of gaming outweigh the potential negatives.\n",
      "\n",
      "## Conclusion\n",
      "\n",
      "From the simple games of the 1950s to the immersive digital worlds of today, the history of video games is a testament to the power of innovation and creativity. As we look to the future, it's exciting to imagine what the next chapter in this dynamic industry will bring.\n",
      "```\n"
     ]
    }
   ],
   "source": [
    "print(result.messages[-1].message.message)"
   ]
  },
  {
   "cell_type": "code",
   "execution_count": null,
   "metadata": {},
   "outputs": [],
   "source": []
  }
 ],
 "metadata": {
  "kernelspec": {
   "display_name": "writing-assistant-tutorial",
   "language": "python",
   "name": "python3"
  },
  "language_info": {
   "codemirror_mode": {
    "name": "ipython",
    "version": 3
   },
   "file_extension": ".py",
   "mimetype": "text/x-python",
   "name": "python",
   "nbconvert_exporter": "python",
   "pygments_lexer": "ipython3",
   "version": "3.11.4"
  },
  "orig_nbformat": 4
 },
 "nbformat": 4,
 "nbformat_minor": 2
}
