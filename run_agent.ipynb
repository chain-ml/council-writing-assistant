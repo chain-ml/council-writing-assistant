{
 "cells": [
  {
   "cell_type": "code",
   "execution_count": null,
   "metadata": {},
   "outputs": [],
   "source": [
    "# Set up logging\n",
    "\n",
    "import logging\n",
    "\n",
    "logging.basicConfig(\n",
    "    format=\"[%(asctime)s %(levelname)s %(threadName)s %(name)s:%(funcName)s:%(lineno)s] %(message)s\",\n",
    "    datefmt=\"%Y-%m-%d %H:%M:%S%z\",\n",
    ")\n",
    "logging.getLogger(\"council\").setLevel(logging.DEBUG)"
   ]
  },
  {
   "cell_type": "code",
   "execution_count": null,
   "metadata": {},
   "outputs": [],
   "source": [
    "# Council imports\n",
    "\n",
    "from council.contexts import AgentContext, Budget, ChatHistory\n",
    "from council.agents import Agent\n",
    "from council.chains import Chain\n",
    "from council.llm.openai_llm import OpenAILLM\n",
    "\n",
    "from skills import SectionWriterSkill, OutlineWriterSkill\n",
    "from controller import WritingAssistantController\n",
    "from evaluator import BasicEvaluatorWithSource\n",
    "from filter import WritingAssistantFilter "
   ]
  },
  {
   "cell_type": "code",
   "execution_count": null,
   "metadata": {},
   "outputs": [],
   "source": [
    "# Read environment variables and initialize OpenAI LLM instance\n",
    "\n",
    "import os\n",
    "import dotenv\n",
    "\n",
    "dotenv.load_dotenv()\n",
    "openai_llm = OpenAILLM.from_env()\n",
    "budget = float(os.getenv(\"BUDGET\"))  # budget in seconds"
   ]
  },
  {
   "cell_type": "code",
   "execution_count": null,
   "metadata": {},
   "outputs": [],
   "source": [
    "# Create Skills\n",
    "\n",
    "outline_skill = OutlineWriterSkill(openai_llm)\n",
    "writing_skill = SectionWriterSkill(openai_llm)"
   ]
  },
  {
   "cell_type": "code",
   "execution_count": null,
   "metadata": {},
   "outputs": [],
   "source": [
    "# Create Chains\n",
    "\n",
    "outline_chain = Chain(\n",
    "    name=\"Outline Writer\",\n",
    "    description=\"Write or revise the outline (i.e. section headers) of a research article in markdown format. Only use this chain when the ARTICLE OUTLINE is missing or incomplete.\",\n",
    "    runners=[outline_skill]\n",
    ")\n",
    "\n",
    "writer_chain = Chain(\n",
    "    name=\"Article Writer\",\n",
    "    description=\"Write or revise specific section bodies of a research article in markdown format. Use this chain to write the main research article content.\",\n",
    "    runners=[writing_skill]\n",
    ")"
   ]
  },
  {
   "cell_type": "code",
   "execution_count": null,
   "metadata": {},
   "outputs": [],
   "source": [
    "# Create Controller\n",
    "\n",
    "controller = WritingAssistantController(\n",
    "    openai_llm,\n",
    "    [outline_chain, writer_chain],\n",
    "    top_k_execution_plan=5\n",
    ")"
   ]
  },
  {
   "cell_type": "code",
   "execution_count": null,
   "metadata": {
    "collapsed": false
   },
   "outputs": [],
   "source": [
    "# Filter\n",
    "\n",
    "filter = WritingAssistantFilter(\n",
    "    openai_llm,\n",
    "    controller.state\n",
    ")"
   ]
  },
  {
   "cell_type": "code",
   "execution_count": null,
   "metadata": {},
   "outputs": [],
   "source": [
    "# Initialize Agent\n",
    "\n",
    "agent = Agent(controller, BasicEvaluatorWithSource(), filter)"
   ]
  },
  {
   "cell_type": "code",
   "execution_count": null,
   "metadata": {},
   "outputs": [],
   "source": [
    "# Run Agent\n",
    "\n",
    "chat_history = ChatHistory.from_user_message(\"Write a detailed research article about the history of box manufacturing.\")\n",
    "run_context = AgentContext.from_chat_history(chat_history, Budget(budget))\n",
    "result = agent.execute(run_context)"
   ]
  },
  {
   "cell_type": "code",
   "execution_count": null,
   "metadata": {},
   "outputs": [],
   "source": [
    "print(result.messages[-1].message.message)"
   ]
  },
  {
   "cell_type": "code",
   "execution_count": null,
   "metadata": {},
   "outputs": [],
   "source": [
    "# If you get a TimeoutError or result.messages is empty, your budget is not enough to complete the article writing\n",
    "# but you can still access generated outline and article directly:\n",
    "\n",
    "print(\"Outline: \")\n",
    "print(agent.controller.state.outline)\n",
    "print(\"\\n\\n----------------------------------------------------------\\n\\n\")\n",
    "print(\"Article: \")\n",
    "print(agent.controller.state.article)"
   ]
  },
  {
   "cell_type": "code",
   "execution_count": null,
   "metadata": {},
   "outputs": [],
   "source": [
    "chat_history.add_user_message(\"Can you please add a section (including subsections) on boxes in popular culture?\")\n",
    "run_context = AgentContext.from_chat_history(chat_history, Budget(budget))\n",
    "result = agent.execute(run_context)"
   ]
  },
  {
   "cell_type": "code",
   "execution_count": null,
   "metadata": {},
   "outputs": [],
   "source": [
    "print(result.messages[-1].message.message)"
   ]
  }
 ],
 "metadata": {
  "kernelspec": {
   "display_name": "writing-assistant-tutorial",
   "language": "python",
   "name": "python3"
  },
  "language_info": {
   "codemirror_mode": {
    "name": "ipython",
    "version": 3
   },
   "file_extension": ".py",
   "mimetype": "text/x-python",
   "name": "python",
   "nbconvert_exporter": "python",
   "pygments_lexer": "ipython3",
   "version": "3.12.0"
  },
  "orig_nbformat": 4
 },
 "nbformat": 4,
 "nbformat_minor": 2
}
