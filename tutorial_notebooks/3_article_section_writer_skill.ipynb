{
 "cells": [
  {
   "cell_type": "markdown",
   "metadata": {},
   "source": [
    "# Skill Implementation: Article Section Writer\n",
    "\n",
    "Let's continue by implementing a Skill for writing or revising article sections. "
   ]
  },
  {
   "cell_type": "code",
   "execution_count": null,
   "metadata": {},
   "outputs": [],
   "source": [
    "from council.skills import SkillBase\n",
    "from council.contexts import ChatMessage, ChainContext\n",
    "from council.runners import Budget\n",
    "from council.llm import LLMBase, LLMMessage\n",
    "\n",
    "from string import Template"
   ]
  },
  {
   "cell_type": "markdown",
   "metadata": {},
   "source": [
    "Once again, we'll start by designing our prompts for this skill."
   ]
  },
  {
   "cell_type": "code",
   "execution_count": null,
   "metadata": {},
   "outputs": [],
   "source": [
    "system_prompt = \"\"\"You are an expert research writer and editor. \n",
    "Your role is to write or revise detailed sections of research articles in markdown format.\"\"\"\n",
    "\n",
    "main_prompt_template = Template(\"\"\"\n",
    "# Task Description\n",
    "Your task is to write specific sections of research articles using your \n",
    "own knowledge or using information available using various sources. \n",
    "First consider the CONVERSATION HISTORY, ARTICLE OUTLINE, ARTICLE, COMMENTS, and INSTRUCTIONS.\n",
    "Then revise the article according to the context and instructions provided below. \n",
    "The entire REVISED ARTICLE should be written using markdown formatting. \n",
    "\n",
    "## CONVERSATION HISTORY\n",
    "$conversation_history\n",
    "\n",
    "## ARTICLE OUTLINE\n",
    "$outline\n",
    "\n",
    "## ARTICLE\n",
    "$article\n",
    "\n",
    "## INSTRUCTIONS\n",
    "$instructions\n",
    "\n",
    "## REVISED ARTICLE\n",
    "\"\"\")"
   ]
  },
  {
   "cell_type": "markdown",
   "metadata": {},
   "source": [
    "With this prompt, we will be asking an LLM to write or revise particular parts of an article. The `$`-variables indicate the skill's expected inputs, and just as we did for the OutlineWriterSkill, we will access values for these variables at runtime from the ChainContext.\n",
    "\n",
    "Let's proceed by building the **SectionWriterSkill**."
   ]
  },
  {
   "cell_type": "code",
   "execution_count": null,
   "metadata": {},
   "outputs": [],
   "source": [
    "class SectionWriterSkill(SkillBase):\n",
    "    \"\"\"Write a specific section of an article.\"\"\"\n",
    "\n",
    "    def __init__(self, llm: LLMBase):\n",
    "        \"\"\"Build a new SectionWriterSkill.\"\"\"\n",
    "\n",
    "        super().__init__(name=\"SectionWriterSkill\")\n",
    "        \n",
    "        self.llm = llm\n",
    "        self.system_prompt = \"You are an expert...\"\n",
    "        self.main_prompt_template = Template(\"# Task Description ...\")"
   ]
  },
  {
   "cell_type": "markdown",
   "metadata": {},
   "source": [
    "Next we implement the skill's `execute` function."
   ]
  },
  {
   "cell_type": "code",
   "execution_count": null,
   "metadata": {},
   "outputs": [],
   "source": [
    "def execute(self, context: ChainContext, _budget: Budget) -> ChatMessage:\n",
    "    \"\"\"Execute `SectionWriterSkill`.\"\"\""
   ]
  },
  {
   "cell_type": "markdown",
   "metadata": {},
   "source": [
    "Just as we did for the other skill, we can always access the conversation history directly from the `context`."
   ]
  },
  {
   "cell_type": "code",
   "execution_count": null,
   "metadata": {},
   "outputs": [],
   "source": [
    "conversation_history = [\n",
    "    f\"{m.kind}: {m.message}\" for m in context.messages\n",
    "]"
   ]
  },
  {
   "cell_type": "markdown",
   "metadata": {},
   "source": [
    "Next we will access parts of the context that are specific to this application.\n",
    "\n",
    "**Note:** The contents of `context.last_message` (both the `message` and `data` fields) depend on how they were populated by the Controller. This is because the Controller is responsible for *deciding how invoke Chains and their underlying Skills*, like the one we're designing now. By implementing this Skill's `execute` function with the expectation that `article`, `outline`, and `iteration` all exist, we'll need to make sure that we design and implement a Controller that will provide these."
   ]
  },
  {
   "cell_type": "code",
   "execution_count": null,
   "metadata": {},
   "outputs": [],
   "source": [
    "# Get the instructions\n",
    "instructions = context.last_message.message\n",
    "\n",
    "# Get the article\n",
    "article = context.last_message.data['article']\n",
    "\n",
    "# Get the outline\n",
    "outline = context.last_message.data['outline']\n",
    "\n",
    "# Get the iteration\n",
    "iteration = context.last_message.data['iteration']"
   ]
  },
  {
   "cell_type": "markdown",
   "metadata": {},
   "source": [
    "Now that we've accessed all of these state values from the context, we can fill in the main prompt, call the LLM, and format a response."
   ]
  },
  {
   "cell_type": "code",
   "execution_count": null,
   "metadata": {},
   "outputs": [],
   "source": [
    "main_prompt = self.main_prompt_template.substitute(\n",
    "    conversation_history=conversation_history,\n",
    "    outline=outline,\n",
    "    article=article,\n",
    "    instructions=instructions\n",
    ")\n",
    "\n",
    "messages_to_llm = [\n",
    "    LLMMessage.system_message(self.system_prompt),\n",
    "    LLMMessage.assistant_message(\n",
    "        main_prompt\n",
    "    ),\n",
    "]\n",
    "\n",
    "llm_response = self.llm.post_chat_request(messages=messages_to_llm)[0]\n",
    "\n",
    "return ChatMessage.skill(\n",
    "    source=self.name,\n",
    "    message=\"I've written or edited the article and placed it in the 'data' field.\",\n",
    "    data={'article': llm_response, 'instructions': instructions, 'iteration': iteration},\n",
    ")"
   ]
  },
  {
   "cell_type": "markdown",
   "metadata": {},
   "source": [
    "Finally, here is the entire SectionWriterSkill implementation."
   ]
  },
  {
   "cell_type": "code",
   "execution_count": null,
   "metadata": {},
   "outputs": [],
   "source": [
    "class SectionWriterSkill(SkillBase):\n",
    "    \"\"\"Write a specific section of an article.\"\"\"\n",
    "\n",
    "    def __init__(self, llm: LLMBase):\n",
    "        \"\"\"Build a new SectionWriterSkill.\"\"\"\n",
    "\n",
    "        super().__init__(name=\"SectionWriterSkill\")\n",
    "        self.llm = llm\n",
    "\n",
    "        self.system_prompt = \"\"\"You are an expert research writer and editor. \n",
    "        Your role is to write or revise detailed sections of research articles in markdown format.\"\"\"\n",
    "\n",
    "        self.main_prompt_template = Template(\"\"\"\n",
    "        # Task Description\n",
    "        Your task is to write specific sections of research articles using your own knowledge \n",
    "        or using information available using various sources. \n",
    "        First consider the CONVERSATION HISTORY, ARTICLE OUTLINE, ARTICLE, COMMENTS, and INSTRUCTIONS.\n",
    "        Then revise the article according to the context and instructions provided below. \n",
    "        The entire REVISED ARTICLE should be written using markdown formatting. \n",
    "\n",
    "        ## CONVERSATION HISTORY\n",
    "        $conversation_history\n",
    "\n",
    "        ## ARTICLE OUTLINE\n",
    "        $outline\n",
    "\n",
    "        ## ARTICLE\n",
    "        $article\n",
    "\n",
    "        ## INSTRUCTIONS\n",
    "        $instructions\n",
    "\n",
    "        ## REVISED ARTICLE\n",
    "        \"\"\")\n",
    "\n",
    "    def execute(self, context: ChainContext, _budget: Budget) -> ChatMessage:\n",
    "        \"\"\"Execute `SectionWriterSkill`.\"\"\"\n",
    "\n",
    "        # Get the chat message history\n",
    "        conversation_history = [\n",
    "            f\"{m.kind}: {m.message}\" for m in context.messages\n",
    "        ]\n",
    "\n",
    "        # Get the article\n",
    "        article = context.last_message.data['article']\n",
    "        \n",
    "        # Get the outline\n",
    "        outline = context.last_message.data['outline']\n",
    "\n",
    "        # Get the iteration\n",
    "        iteration = context.last_message.data['iteration']\n",
    "       \n",
    "        # Get the instructions\n",
    "        instructions = context.last_message.message\n",
    "        \n",
    "        main_prompt = self.main_prompt_template.substitute(\n",
    "            conversation_history=conversation_history,\n",
    "            outline=outline,\n",
    "            article=article,\n",
    "            revision_instructions=instructions\n",
    "        )\n",
    "\n",
    "        messages_to_llm = [\n",
    "            LLMMessage.system_message(self.system_prompt),\n",
    "            LLMMessage.assistant_message(\n",
    "                main_prompt\n",
    "            ),\n",
    "        ]\n",
    "\n",
    "        llm_response = self.llm.post_chat_request(messages=messages_to_llm)[0]\n",
    "\n",
    "        return ChatMessage.skill(\n",
    "            source=self.name,\n",
    "            message=\"I've written or edited the article and placed it in the 'data' field.\",\n",
    "            data={'article': llm_response, 'instructions': instructions, 'iteration': iteration},\n",
    "        )\n",
    "    "
   ]
  },
  {
   "cell_type": "markdown",
   "metadata": {},
   "source": [
    "Next we will move on to defining one of the most important parts of a Council Agent - the **Controller**."
   ]
  },
  {
   "cell_type": "markdown",
   "metadata": {},
   "source": []
  }
 ],
 "metadata": {
  "language_info": {
   "name": "python"
  },
  "orig_nbformat": 4
 },
 "nbformat": 4,
 "nbformat_minor": 2
}
